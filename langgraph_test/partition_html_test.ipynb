{
 "cells": [
  {
   "cell_type": "code",
   "execution_count": 30,
   "metadata": {},
   "outputs": [],
   "source": [
    "import os\n",
    "import re\n",
    "import json\n",
    "import io\n",
    "import requests\n",
    "import ast\n",
    "from typing import Optional\n",
    "from datetime import date\n",
    "\n",
    "from dotenv import load_dotenv\n",
    "\n",
    "from pydantic import BaseModel, Field\n",
    "from bs4 import BeautifulSoup\n",
    "from langchain_core.prompts import PromptTemplate\n",
    "from langchain_openai import ChatOpenAI\n",
    "from langchain_core.messages import AIMessage\n",
    "from langchain_community.tools.tavily_search import TavilySearchResults\n",
    "from langchain_text_splitters import RecursiveCharacterTextSplitter\n",
    "from unstructured.partition.html import partition_html"
   ]
  },
  {
   "cell_type": "code",
   "execution_count": 31,
   "metadata": {},
   "outputs": [],
   "source": [
    "test_url = \"https://www.nordstrom.com/browse/men/shoes/boots\""
   ]
  },
  {
   "cell_type": "code",
   "execution_count": 32,
   "metadata": {},
   "outputs": [],
   "source": [
    "def get_test_html() -> str:\n",
    "    with open(\"test_web_page.html\", \"r\") as f:\n",
    "        return f.read()"
   ]
  },
  {
   "cell_type": "code",
   "execution_count": 33,
   "metadata": {},
   "outputs": [],
   "source": [
    "# response = requests.get(test_url)\n",
    "# response.raise_for_status()\n",
    "# print(f\"Response: {response}\")\n",
    "# html_content = response.text\n",
    "# print(f\"HTML content: {html_content}\")\n",
    "# Convert text to bytes using utf-8 encoding\n",
    "# html_content_bytes = io.BytesIO(html_content.encode('utf-8'))\n",
    "# extracted_elements = partition_html(text=html_content)"
   ]
  },
  {
   "cell_type": "code",
   "execution_count": 34,
   "metadata": {},
   "outputs": [
    {
     "name": "stdout",
     "output_type": "stream",
     "text": [
      "[]\n"
     ]
    }
   ],
   "source": [
    "# print([element.text for element in extracted_elements])"
   ]
  },
  {
   "cell_type": "code",
   "execution_count": null,
   "metadata": {},
   "outputs": [],
   "source": [
    "# TODO: Issue with partition_html - doesn't know what elements are associated with each other\n",
    "# Debatable whether it's better to use the custom parser system or use partition_html out of the box"
   ]
  },
  {
   "cell_type": "code",
   "execution_count": null,
   "metadata": {},
   "outputs": [],
   "source": [
    "def split_html(html: str) -> list[str]:\n",
    "    text_splitter = RecursiveCharacterTextSplitter(\n",
    "        chunk_size=5000,\n",
    "        chunk_overlap=100,\n",
    "        length_function=len,\n",
    "        is_separator_regex=False,\n",
    "    )\n",
    "    return text_splitter.split_text(html)"
   ]
  },
  {
   "cell_type": "code",
   "execution_count": 59,
   "metadata": {},
   "outputs": [
    {
     "name": "stdout",
     "output_type": "stream",
     "text": [
      "len(elements): 649\n",
      "['New In: Men', \"Explore new in men's ready-to-wear collection and new arrivals in men's shoes.\", 'Lasered denim jacket', '$ 2,550', 'Shop This', \"Men's Gucci Re-Web sneaker\", '$ 1,150', 'Shop This', 'Tapered denim pant with Web', '$ 1,300', 'Shop This', 'Rib knit wool hat', '$ 480', 'Shop This', 'G-Timeless watch, 38mm', '$ 1,550', 'Shop This', 'Square frame sunglasses', '$ 480', 'Shop This', 'Shop This', 'Wool sweater with Gucci intarsia', '$ 1,250', 'Shop This', 'VIRTUAL TRY-ON', \"Men's Horsebit 1953 loafer\", '$ 990', 'Shop This', 'Polyester GG jacquard pant with Web', '$ 1,750', 'Shop This', 'Icon 18k GG thin ring', '$ 1,850', 'Shop This', 'RUNWAY', 'Jackie large shoulder bag', '$ 4,800', 'Shop This', 'GG Marmont chain bracelet', '$ 340', 'Shop This', 'Rib knit wool hat', '$ 480', 'Shop This', 'Denim shirt with lasered Gucci detail', '$ 2,650', 'Shop This', \"Men's ankle boot with Horsebit\", '$ 1,270', 'Shop This', 'RUNWAY', 'GG Marmont thin belt', '$ 530', 'Shop This', 'Shop This', 'Felted cotton zipped jacket with patch', '$ 2,100', 'Shop This', 'Small belt bag with Gucci logo', '$ 1,890', 'Shop This', \"Men's loafer with Horsebit\", '$ 1,220', 'Shop This', 'Knit wool scarf', '$ 490', 'Shop This', 'Technical cotton canvas hooded jacket', '$ 3,650', 'Shop This', 'Super mini shoulder bag', '$ 2,150', 'Shop This', \"Men's Gucci Re-Web sneaker\", '$ 1,150', 'Shop This', 'Nylon bucket hat with Gucci logo', '$ 640', 'Shop This', 'GG heavy nylon gilet']\n",
      "[None, None, ['/us/en/pr/men/ready-to-wear-for-men/denim-for-men/denim-tops-for-men/lasered-denim-jacket-p-789129XDC0F4447'], None, None, ['/us/en/pr/men/shoes-for-men/sneakers-for-men/low-top-sneakers-for-men/mens-gucci-re-web-sneaker-p-787476AADHW9552'], None, None, ['/us/en/pr/men/ready-to-wear-for-men/pants-and-shorts-for-men/long-pants-for-men/tapered-denim-pant-with-web-p-789232XDC244447'], None, None, ['/us/en/pr/men/accessories-for-men/hats-and-gloves-for-men/beanies-for-men/rib-knit-wool-hat-p-8113444G2004000'], None, None, ['/us/en/pr/jewelry-watches/watches/watches-for-women/g-timeless-watch-38mm-p-808893IDVA08461'], None, None, ['/us/en/pr/men/accessories-for-men/eyewear-for-men/sunglasses-for-men/square-rectangle-sunglasses-for-men/square-frame-sunglasses-p-797502J07402312'], None, None, ['https://shop.gucci.com/MenLoafers'], ['/us/en/pr/men/ready-to-wear-for-men/knitwear-for-men/crewnecks-for-men/wool-sweater-with-gucci-intarsia-p-795834XKD7K4594'], None, None, ['/us/en/pr/men/shoes-for-men/loafers-for-men/mens-horsebit-1953-loafer-p-307929BLM001000'], None, None, None, ['/us/en/pr/men/ready-to-wear-for-men/pants-and-shorts-for-men/long-pants-for-men/polyester-gg-jacquard-pant-with-web-p-791166ZAORH4036'], None, None, ['/us/en/pr/jewelry-watches/gold-jewelry/gold-rings/icon-18k-gg-thin-ring-p-804335J85008000'], None, None, ['/us/en/pr/men/bags-for-men/messengers-crossbody-bags-for-men/jackie-large-shoulder-bag-p-813650AZB5Z1060'], None, None, None, ['/us/en/pr/jewelry-watches/silver-jewelry/silver-bracelets/gg-marmont-chain-bracelet-p-814917J84008106'], None, None, ['/us/en/pr/men/accessories-for-men/hats-and-gloves-for-men/beanies-for-men/rib-knit-wool-hat-p-8113444G2002000'], None, None, ['/us/en/pr/men/ready-to-wear-for-men/denim-for-men/denim-tops-for-men/denim-shirt-with-lasered-gucci-detail-p-792629XDC254452'], None, None, ['/us/en/pr/men/shoes-for-men/boots-ankle-boots-for-men/mens-ankle-boot-with-horsebit-p-8010570PV002109'], None, None, ['/us/en/pr/men/accessories-for-men/belts-for-men/casual-belts-for-men/gg-marmont-thin-belt-p-4145160AABG2140'], None, None, None, ['-p-802096FADUM1059'], ['/us/en/pr/men/ready-to-wear-for-men/tracksuits-sweatshirts-for-men/sweatshirts-for-men/felted-cotton-zipped-jacket-with-patch-p-798641XJGRE1056'], None, None, ['/us/en/pr/women/handbags/backpacks-belt-bags-for-women/small-belt-bag-with-gucci-logo-p-804262FADR71059'], None, None, ['/us/en/pr/men/shoes-for-men/loafers-for-men/mens-loafer-with-horsebit-p-8010580PV004009'], None, None, ['/us/en/pr/men/accessories-for-men/scarves-for-men/knit-wool-scarf-p-8123784G2001200'], None, None, ['/us/en/pr/men/ready-to-wear-for-men/outerwear-for-men/down-puffer-for-men/technical-cotton-canvas-hooded-jacket-p-787197ZARAK1043'], None, None, ['/us/en/pr/men/bags-for-men/messengers-crossbody-bags-for-men/super-mini-shoulder-bag-p-800313AADYK1060'], None, None, ['/us/en/pr/men/shoes-for-men/sneakers-for-men/low-top-sneakers-for-men/mens-gucci-re-web-sneaker-p-786186AADJ91044'], None, None, ['/us/en/pr/men/accessories-for-men/hats-and-gloves-for-men/bucket-hats-for-men/nylon-bucket-hat-with-gucci-logo-p-8135344HBD01066'], None, None, ['/us/en/pr/men/ready-to-wear-for-men/outerwear-for-men/down-puffer-for-men/gg-heavy-nylon-gilet-p-794831ZARAM1000']]\n"
     ]
    }
   ],
   "source": [
    "test_file = get_test_html()\n",
    "elements = partition_html(text=test_file)\n",
    "print(f\"len(elements): {len(elements)}\")\n",
    "print([element.text for element in elements[420:500]])\n",
    "print([element.metadata.link_urls for element in elements[420:500]])\n"
   ]
  }
 ],
 "metadata": {
  "kernelspec": {
   "display_name": "fashion_analyzer",
   "language": "python",
   "name": "python3"
  },
  "language_info": {
   "codemirror_mode": {
    "name": "ipython",
    "version": 3
   },
   "file_extension": ".py",
   "mimetype": "text/x-python",
   "name": "python",
   "nbconvert_exporter": "python",
   "pygments_lexer": "ipython3",
   "version": "3.12.7"
  }
 },
 "nbformat": 4,
 "nbformat_minor": 2
}
