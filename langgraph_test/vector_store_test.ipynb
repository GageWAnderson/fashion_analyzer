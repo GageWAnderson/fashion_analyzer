{
 "cells": [
  {
   "cell_type": "code",
   "execution_count": 1,
   "metadata": {},
   "outputs": [],
   "source": [
    "import json\n",
    "import uuid\n",
    "from datetime import datetime\n",
    "\n",
    "from langchain_core.documents import Document\n",
    "from langchain_core.messages import AIMessage\n",
    "from langchain_community.vectorstores import VectorStore\n",
    "from unstructured.documents.elements import Image\n",
    "\n",
    "# from common.utils.minio import minio_put_object\n",
    "from common.utils.unstructured_io import partition_web_page\n",
    "from common.schemas.vector_metadata import VectorMetadata\n",
    "from common.db.vector_store import ChromaVectorStore\n",
    "from common.config.base_config import BaseConfig"
   ]
  },
  {
   "cell_type": "code",
   "execution_count": 2,
   "metadata": {},
   "outputs": [],
   "source": [
    "config = BaseConfig.from_yaml(\"config.yml\")"
   ]
  },
  {
   "cell_type": "code",
   "execution_count": 3,
   "metadata": {},
   "outputs": [],
   "source": [
    "vector_store = ChromaVectorStore.from_config(config).vector_store"
   ]
  },
  {
   "cell_type": "code",
   "execution_count": 4,
   "metadata": {},
   "outputs": [],
   "source": [
    "def save_tavily_res_to_vector_db(\n",
    "    tavily_res: AIMessage, vector_store: VectorStore\n",
    ") -> None:\n",
    "    chunk_id = str(uuid.uuid4())\n",
    "    search_msg = tavily_res.content[0][\n",
    "        \"content\"\n",
    "    ]  # TODO: Find a better way to break the content down into finer chunks\n",
    "    search_url = tavily_res.content[0][\"url\"]\n",
    "    \n",
    "    metadata = VectorMetadata(\n",
    "        query=search_msg,\n",
    "        url=search_url,\n",
    "        image_urls=extract_tavily_res_content(search_url),\n",
    "        chunk_id=chunk_id,\n",
    "        timestamp=datetime.now().isoformat(),\n",
    "        source_type=\"web_page\",\n",
    "        content_summary=\"Overview of spring/summer fashion trends for 2023\",\n",
    "        relevance_score=0.85,\n",
    "    ).model_dump(mode=\"json\")\n",
    "    print(f\"Metadata: {metadata}\")\n",
    "\n",
    "    doc = Document(\n",
    "        page_content=search_msg,\n",
    "        metadata=metadata,\n",
    "        id=chunk_id,\n",
    "    )\n",
    "\n",
    "    vector_store.add_documents(documents=[doc], ids=[chunk_id])\n",
    "\n",
    "\n",
    "def extract_tavily_res_content(url: str) -> str:\n",
    "    \"\"\"\n",
    "    Extracts all images and other media from the Tavily search results and stores them in Minio.\n",
    "    Returns a comma-delimited string of presigned URLs to the images.\n",
    "    \"\"\"\n",
    "    elements = partition_web_page(url)\n",
    "    res = []\n",
    "    for element in elements:\n",
    "        if isinstance(element, Image):\n",
    "            # response = minio_put_object(element.get_content(), element.mime_type)\n",
    "            res.append(\"http://test_url.com\")\n",
    "        # TODO: handle other element types\n",
    "    return \",\".join(res)"
   ]
  },
  {
   "cell_type": "code",
   "execution_count": 5,
   "metadata": {},
   "outputs": [],
   "source": [
    "res = AIMessage(content=[{\"content\": \"test\", \"url\": \"https://google.com\"}])"
   ]
  },
  {
   "cell_type": "code",
   "execution_count": 6,
   "metadata": {},
   "outputs": [
    {
     "name": "stdout",
     "output_type": "stream",
     "text": [
      "Metadata: {'query': 'test', 'url': 'https://google.com', 'image_urls': '', 'chunk_id': '04006a4d-9b01-455c-b7dc-473fe3495215', 'timestamp': '2024-10-05T12:06:55.047245', 'source_type': 'web_page', 'content_summary': 'Overview of spring/summer fashion trends for 2023', 'relevance_score': 0.85}\n"
     ]
    }
   ],
   "source": [
    "save_tavily_res_to_vector_db(res, vector_store)"
   ]
  }
 ],
 "metadata": {
  "kernelspec": {
   "display_name": "fashion_analyzer",
   "language": "python",
   "name": "python3"
  },
  "language_info": {
   "codemirror_mode": {
    "name": "ipython",
    "version": 3
   },
   "file_extension": ".py",
   "mimetype": "text/x-python",
   "name": "python",
   "nbconvert_exporter": "python",
   "pygments_lexer": "ipython3",
   "version": "3.12.4"
  }
 },
 "nbformat": 4,
 "nbformat_minor": 2
}
