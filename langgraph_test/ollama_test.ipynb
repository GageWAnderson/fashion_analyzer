{
 "cells": [
  {
   "cell_type": "code",
   "execution_count": 13,
   "metadata": {},
   "outputs": [],
   "source": [
    "from typing import Optional\n",
    "\n",
    "from langchain_openai import ChatOpenAI\n",
    "from langchain_core.embeddings import Embeddings\n",
    "from langchain_openai import OpenAIEmbeddings\n",
    "from langchain_core.language_models import BaseLanguageModel\n",
    "from langchain_ollama import ChatOllama, OllamaEmbeddings\n",
    "from langchain_core.callbacks import AsyncCallbackHandler\n",
    "from langchain_core.messages import HumanMessage\n",
    "from common.config.base_config import BaseConfig"
   ]
  },
  {
   "cell_type": "code",
   "execution_count": 14,
   "metadata": {},
   "outputs": [],
   "source": [
    "model = ChatOllama(\n",
    "    base_url=\"http://localhost:11434\",\n",
    "    model=\"llama3.1\",\n",
    "    verbose=True,\n",
    "    temperature=0.0,\n",
    "    callbacks=[],\n",
    ")"
   ]
  },
  {
   "cell_type": "code",
   "execution_count": 15,
   "metadata": {},
   "outputs": [
    {
     "name": "stdout",
     "output_type": "stream",
     "text": [
      "content=\"Hello! It's nice to meet you. Is there something I can help you with or would you like to chat?\" additional_kwargs={} response_metadata={'model': 'llama3.1', 'created_at': '2024-11-05T15:01:52.738712Z', 'message': {'role': 'assistant', 'content': ''}, 'done_reason': 'stop', 'done': True, 'total_duration': 737501625, 'load_duration': 26592709, 'prompt_eval_count': 15, 'prompt_eval_duration': 278217000, 'eval_count': 25, 'eval_duration': 431639000} id='run-84dd255a-89da-4439-8c45-cb4bf0d63d2f-0' usage_metadata={'input_tokens': 15, 'output_tokens': 25, 'total_tokens': 40}\n"
     ]
    }
   ],
   "source": [
    "res = await model.ainvoke(input=[HumanMessage(content=\"Hello, world!\")])\n",
    "print(res)"
   ]
  }
 ],
 "metadata": {
  "kernelspec": {
   "display_name": "fashion_analyzer",
   "language": "python",
   "name": "python3"
  },
  "language_info": {
   "codemirror_mode": {
    "name": "ipython",
    "version": 3
   },
   "file_extension": ".py",
   "mimetype": "text/x-python",
   "name": "python",
   "nbconvert_exporter": "python",
   "pygments_lexer": "ipython3",
   "version": "3.12.7"
  }
 },
 "nbformat": 4,
 "nbformat_minor": 2
}
