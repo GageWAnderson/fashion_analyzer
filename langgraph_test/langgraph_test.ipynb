{
 "cells": [
  {
   "cell_type": "markdown",
   "metadata": {},
   "source": [
    "## LangGraph Test File\n",
    "Refer to the [LangGraph Tutorial](https://langchain-ai.github.io/langgraph/tutorials/introduction/#part-1-build-a-basic-chatbot) for more details."
   ]
  },
  {
   "cell_type": "code",
   "execution_count": 15,
   "metadata": {},
   "outputs": [],
   "source": [
    "import os\n",
    "from dotenv import load_dotenv\n",
    "\n",
    "from typing import Annotated\n",
    "from typing_extensions import TypedDict\n",
    "from langgraph.graph import StateGraph, START, END\n",
    "from langgraph.graph.message import add_messages\n",
    "from langgraph.graph.state import CompiledStateGraph\n",
    "from langchain_community.chat_models import ChatOllama\n",
    "from langchain_openai import ChatOpenAI\n",
    "from IPython.display import Image, display"
   ]
  },
  {
   "cell_type": "code",
   "execution_count": 16,
   "metadata": {},
   "outputs": [
    {
     "data": {
      "text/plain": [
       "True"
      ]
     },
     "execution_count": 16,
     "metadata": {},
     "output_type": "execute_result"
    }
   ],
   "source": [
    "load_dotenv()"
   ]
  },
  {
   "cell_type": "code",
   "execution_count": 17,
   "metadata": {},
   "outputs": [],
   "source": [
    "class State(TypedDict):\n",
    "    # Messages have the type \"list\". The `add_messages` function\n",
    "    # in the annotation defines how this state key should be updated\n",
    "    # (in this case, it appends messages to the list, rather than overwriting them)\n",
    "    messages: Annotated[list, add_messages]\n",
    "\n",
    "\n",
    "graph_builder = StateGraph(State)"
   ]
  },
  {
   "cell_type": "markdown",
   "metadata": {},
   "source": [
    "## Schemas are the most imporatant part of every graph\n",
    "The first thing you do when you define a graph is define the State of the graph. The State consists of the schema of the graph as well as reducer functions which specify how to apply updates to the state. In our example State is a TypedDict with a single key: messages. The messages key is annotated with the add_messages reducer function, which tells LangGraph to append new messages to the existing list, rather than overwriting it. State keys without an annotation will be overwritten by each update, storing the most recent value. Check out this conceptual guide to learn more about state, reducers and other low-level concepts. "
   ]
  },
  {
   "cell_type": "code",
   "execution_count": 18,
   "metadata": {},
   "outputs": [],
   "source": [
    "llm = ChatOpenAI(model=\"gpt-4o\", api_key=os.getenv(\"OPENAI_API_KEY\"))\n",
    "fast_llm = ChatOpenAI(model=\"gpt-4o-mini\", api_key=os.getenv(\"OPENAI_API_KEY\"))\n",
    "local_llm = ChatOllama(model=\"llama3:latest\")\n",
    "\n",
    "\n",
    "def chatbot(state: State):\n",
    "    return {\"messages\": [llm.invoke(state[\"messages\"])]}\n",
    "\n",
    "\n",
    "def fast_chatbot(state: State):\n",
    "    return {\"messages\": [fast_llm.invoke(state[\"messages\"])]}\n",
    "\n",
    "def local_chatbot(state: State):\n",
    "    return {\"messages\": [local_llm.invoke(state[\"messages\"])]}\n",
    "\n",
    "\n",
    "# The first argument is the unique node name\n",
    "# The second argument is the function or object that will be called whenever\n",
    "# # the node is used.\n",
    "# graph_builder.add_node(\"chatbot\", chatbot)\n",
    "# graph_builder.add_node(\"fast_chatbot\", fast_chatbot)\n",
    "graph_builder.add_node(\"local_chatbot\", local_chatbot)"
   ]
  },
  {
   "cell_type": "code",
   "execution_count": 19,
   "metadata": {},
   "outputs": [],
   "source": [
    "# graph_builder.add_edge(START, \"chatbot\")\n",
    "# graph_builder.add_edge(START, \"fast_chatbot\")\n",
    "# graph_builder.add_edge(\"fast_chatbot\", \"chatbot\")\n",
    "# graph_builder.add_edge(\"chatbot\", END)\n",
    "graph_builder.add_edge(START, \"local_chatbot\")\n",
    "graph_builder.add_edge(\"local_chatbot\", END)"
   ]
  },
  {
   "cell_type": "code",
   "execution_count": 20,
   "metadata": {},
   "outputs": [],
   "source": [
    "graph = graph_builder.compile()"
   ]
  },
  {
   "cell_type": "code",
   "execution_count": 21,
   "metadata": {},
   "outputs": [
    {
     "data": {
      "image/jpeg": "[encoded data removed]",
      "text/plain": [
       "<IPython.core.display.Image object>"
      ]
     },
     "metadata": {},
     "output_type": "display_data"
    }
   ],
   "source": [
    "def draw_graph(graph: CompiledStateGraph):\n",
    "    display(Image(graph.get_graph().draw_mermaid_png()))\n",
    "\n",
    "draw_graph(graph)"
   ]
  },
  {
   "cell_type": "code",
   "execution_count": 22,
   "metadata": {},
   "outputs": [
    {
     "name": "stdout",
     "output_type": "stream",
     "text": [
      "Assistant: Hello! It's nice to meet you. Is there something I can help you with, or would you like to chat?\n",
      "Assistant: Making AI agents! That's a fascinating topic. Artificial Intelligence (AI) is a broad field that encompasses many areas, including machine learning, natural language processing, computer vision, and robotics. Creating an AI agent typically involves designing and training a software program to perform specific tasks, often using data and algorithms.\n",
      "\n",
      "Here's a general outline of the steps involved in making AI agents:\n",
      "\n",
      "1. **Define the problem or task**: Identify what you want your AI agent to do, such as:\n",
      "\t* Classify images (e.g., recognizing objects)\n",
      "\t* Understand natural language (e.g., chatbots, sentiment analysis)\n",
      "\t* Make predictions (e.g., forecasting weather)\n",
      "\t* Control physical devices (e.g., robots, autonomous vehicles)\n",
      "2. **Choose a programming framework**: Select a suitable programming framework or library to build your AI agent. Some popular ones include:\n",
      "\t* Python: TensorFlow, Keras, PyTorch\n",
      "\t* Java: Weka, Deeplearning4j\n",
      "\t* C++: OpenCV, PCL (Point Cloud Library)\n",
      "3. **Design the architecture**: Decide on the overall structure of your AI agent, including:\n",
      "\t* Data sources (e.g., sensors, databases)\n",
      "\t* Processing units (e.g., neural networks, decision trees)\n",
      "\t* Control flows (e.g., rules, if-else statements)\n",
      "4. **Collect and preprocess data**: Gather relevant data for training and testing your AI agent. This may involve:\n",
      "\t* Collecting labeled or unlabeled data\n",
      "\t* Preprocessing data (e.g., normalization, feature extraction)\n",
      "5. **Train the AI agent**: Use the collected and preprocessed data to train your AI agent using various machine learning algorithms, such as:\n",
      "\t* Supervised learning: Labelled data is used to train a model.\n",
      "\t* Unsupervised learning: No labels are provided, and the model discovers patterns.\n",
      "\t* Reinforcement learning: The AI agent learns through trial-and-error interactions with an environment.\n",
      "6. **Test and evaluate**: Test your AI agent on a separate dataset or in a controlled environment to:\n",
      "\t* Measure performance metrics (e.g., accuracy, precision, recall)\n",
      "\t* Identify biases and areas for improvement\n",
      "7. **Deploy and maintain**: Deploy your trained AI agent in a production-ready environment, such as:\n",
      "\t* Web applications\n",
      "\t* Mobile apps\n",
      "\t* Embedded systems\n",
      "\t* Cloud services\n",
      "\n",
      "Some popular AI agent architectures include:\n",
      "\n",
      "1. **Rule-based systems**: Use predefined rules to make decisions.\n",
      "2. **Machine learning models**: Train neural networks or other machine learning models on data.\n",
      "3. **Hybrid approaches**: Combine rule-based and machine learning-based systems.\n",
      "\n",
      "When building an AI agent, consider the following best practices:\n",
      "\n",
      "1. **Start small**: Focus on a specific task or problem.\n",
      "2. **Use domain knowledge**: Incorporate expertise from your domain or industry.\n",
      "3. **Monitor and adapt**: Continuously monitor performance and update the AI agent as needed.\n",
      "4. **Ensure explainability**: Provide transparency into decision-making processes.\n",
      "\n",
      "Remember that creating an AI agent is a complex process requiring significant effort, data, and expertise. However, with persistence and creativity, you can develop AI agents that drive innovation and improve lives.\n",
      "Goodbye!\n"
     ]
    }
   ],
   "source": [
    "while True:\n",
    "    user_input = input(\"User: \")\n",
    "    if user_input.lower() in [\"quit\", \"exit\", \"q\"]:\n",
    "        print(\"Goodbye!\")\n",
    "        break\n",
    "    for event in graph.stream({\"messages\": (\"user\", user_input)}):\n",
    "        for value in event.values():\n",
    "            print(\"Assistant:\", value[\"messages\"][-1].content)"
   ]
  }
 ],
 "metadata": {
  "kernelspec": {
   "display_name": "fashion_analyzer",
   "language": "python",
   "name": "python3"
  },
  "language_info": {
   "codemirror_mode": {
    "name": "ipython",
    "version": 3
   },
   "file_extension": ".py",
   "mimetype": "text/x-python",
   "name": "python",
   "nbconvert_exporter": "python",
   "pygments_lexer": "ipython3",
   "version": "3.12.4"
  }
 },
 "nbformat": 4,
 "nbformat_minor": 2
}
