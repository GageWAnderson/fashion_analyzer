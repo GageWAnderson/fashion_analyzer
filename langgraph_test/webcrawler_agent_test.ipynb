{
 "cells": [
  {
   "cell_type": "code",
   "execution_count": 49,
   "metadata": {},
   "outputs": [],
   "source": [
    "import os\n",
    "import traceback\n",
    "from datetime import datetime\n",
    "import uuid\n",
    "import chromadb\n",
    "from dotenv import load_dotenv\n",
    "from typing import Annotated\n",
    "from typing_extensions import TypedDict\n",
    "\n",
    "from pydantic import BaseModel\n",
    "from langgraph.graph import StateGraph, START, END\n",
    "from langgraph.graph.message import add_messages\n",
    "from langgraph.graph.state import CompiledStateGraph\n",
    "from langchain_community.chat_models import ChatOllama\n",
    "from langchain_community.embeddings import OllamaEmbeddings\n",
    "from langchain_core.documents import Document\n",
    "from langchain_community.tools.tavily_search import TavilySearchResults\n",
    "from langchain_core.prompts import PromptTemplate\n",
    "from langchain_core.prompts.base import format_document\n",
    "from langchain_core.messages import (\n",
    "    AIMessage,\n",
    "    HumanMessage,\n",
    "    BaseMessage,\n",
    "    get_buffer_string,\n",
    ")\n",
    "from langchain_chroma import Chroma\n",
    "from langchain_openai import ChatOpenAI\n",
    "from langchain.chains.combine_documents import create_stuff_documents_chain\n",
    "from langchain_community.document_loaders import WebBaseLoader\n",
    "from langchain_core.prompts import ChatPromptTemplate\n",
    "\n",
    "\n",
    "from IPython.display import Image, display"
   ]
  },
  {
   "cell_type": "code",
   "execution_count": 50,
   "metadata": {},
   "outputs": [
    {
     "data": {
      "text/plain": [
       "True"
      ]
     },
     "execution_count": 50,
     "metadata": {},
     "output_type": "execute_result"
    }
   ],
   "source": [
    "load_dotenv()"
   ]
  },
  {
   "cell_type": "markdown",
   "metadata": {},
   "source": [
    "### Managing Subgraphs with LangGraph\n",
    "Check this [article](https://langchain-ai.github.io/langgraph/how-tos/subgraphs-manage-state/) out to learn how to manage sub-graphs! Useful if you want to partition the state of the graph into different sections.\n",
    "Also, this [article](https://langchain-ai.github.io/langgraph/reference/graphs/) tells you how to plug your config directly into state to use in the API for each of your tools."
   ]
  },
  {
   "cell_type": "markdown",
   "metadata": {},
   "source": [
    "### LangGraph Summaries Cognitive Architecture\n",
    "Check out this [link](https://python.langchain.com/v0.2/docs/tutorials/summarization/) to learn more about summarization cognitive architectures."
   ]
  },
  {
   "cell_type": "code",
   "execution_count": 51,
   "metadata": {},
   "outputs": [],
   "source": [
    "SEARCH_PLAN_RETRY_LIMIT = 5\n",
    "NUM_SEARCH_ITERATIONS = 5"
   ]
  },
  {
   "cell_type": "code",
   "execution_count": 52,
   "metadata": {},
   "outputs": [],
   "source": [
    "def get_current_year_and_month() -> tuple[int, int]:\n",
    "    current_date = datetime.now()\n",
    "    return current_date.year, current_date.month\n"
   ]
  },
  {
   "cell_type": "code",
   "execution_count": 53,
   "metadata": {},
   "outputs": [],
   "source": [
    "men_fashion_categories = [\n",
    "    \"Suits and Blazers\",\n",
    "    \"Shirts (Casual and Dress)\",\n",
    "    \"Pants (Jeans, Chinos, Dress Pants)\",\n",
    "    \"T-shirts and Polos\",\n",
    "    \"Footwear (Sneakers, Dress Shoes, Boots)\",\n",
    "    \"Outerwear (Jackets, Coats, Vests)\",\n",
    "    \"Accessories (Watches, Belts, Sunglasses)\",\n",
    "    \"Sportswear and Activewear\",\n",
    "    \"Underwear and Socks\",\n",
    "    \"Bags (Backpacks, Briefcases, Messenger Bags)\",\n",
    "]\n",
    "women_fashion_categories = [\n",
    "    \"Dresses and Skirts\",\n",
    "    \"Tops and Blouses\",\n",
    "    \"Pants and Leggings\",\n",
    "    \"Footwear (Heels, Flats, Boots)\",\n",
    "    \"Outerwear (Coats, Jackets, Blazers)\",\n",
    "    \"Handbags and Purses\",\n",
    "    \"Jewelry and Accessories\",\n",
    "    \"Sportswear and Activewear\",\n",
    "    \"Lingerie and Sleepwear\",\n",
    "    \"Sunglasses and Hats\",\n",
    "]\n",
    "\n",
    "all_fashion_categories = men_fashion_categories + women_fashion_categories"
   ]
  },
  {
   "cell_type": "code",
   "execution_count": 54,
   "metadata": {},
   "outputs": [],
   "source": [
    "class SearchPlan(BaseModel):\n",
    "    category: str\n",
    "    queries: list[str]\n",
    "\n",
    "\n",
    "class SearchPlans(BaseModel):\n",
    "    plans: list[SearchPlan]"
   ]
  },
  {
   "cell_type": "code",
   "execution_count": 55,
   "metadata": {},
   "outputs": [],
   "source": [
    "def update_search_plans(x: SearchPlans, y: SearchPlans) -> SearchPlans:\n",
    "    return y if y else x\n",
    "\n",
    "\n",
    "def increment_search_iterations(x: int, y: int) -> int:\n",
    "    return x + y\n",
    "\n",
    "\n",
    "def update_search_categories(x: list[str], y: list[str]) -> list[str]:\n",
    "    return y if y else x\n",
    "\n",
    "\n",
    "class State(TypedDict):\n",
    "    # Messages have the type \"list\". The `add_messages` function\n",
    "    # in the annotation defines how this state key should be updated\n",
    "    # (in this case, it appends messages to the list, rather than overwriting them)\n",
    "\n",
    "    # Each state variable needs an annotations to declare itself\n",
    "    messages: Annotated[list[BaseMessage], add_messages]\n",
    "    search_plans: Annotated[SearchPlans, update_search_plans]\n",
    "    num_search_iterations: Annotated[int, increment_search_iterations]\n",
    "    search_categories: Annotated[list[str], update_search_categories] = (\n",
    "        all_fashion_categories\n",
    "    )\n",
    "\n",
    "\n",
    "graph_builder = StateGraph(State)"
   ]
  },
  {
   "cell_type": "code",
   "execution_count": 56,
   "metadata": {},
   "outputs": [
    {
     "data": {
      "text/plain": [
       "__main__.State"
      ]
     },
     "execution_count": 56,
     "metadata": {},
     "output_type": "execute_result"
    }
   ],
   "source": [
    "graph_builder.schema"
   ]
  },
  {
   "cell_type": "code",
   "execution_count": 57,
   "metadata": {},
   "outputs": [],
   "source": [
    "llm = ChatOpenAI(model=\"gpt-4o\", api_key=os.getenv(\"OPENAI_API_KEY\"))\n",
    "fast_llm = ChatOpenAI(model=\"gpt-4o-mini\", api_key=os.getenv(\"OPENAI_API_KEY\"))\n",
    "local_llm = ChatOllama(model=\"llama3:latest\")\n",
    "local_embedding_model = OllamaEmbeddings(model=\"nomic-embed-text:latest\")"
   ]
  },
  {
   "cell_type": "code",
   "execution_count": 58,
   "metadata": {},
   "outputs": [],
   "source": [
    "vector_store = Chroma(\n",
    "    collection_name=\"example_collection\",\n",
    "    embedding_function=local_embedding_model,\n",
    "    persist_directory=\"./chroma_langchain_db\",  # Where to save data locally, remove if not neccesary\n",
    ")"
   ]
  },
  {
   "cell_type": "code",
   "execution_count": 59,
   "metadata": {},
   "outputs": [],
   "source": [
    "COLLECTION_NAME = \"langgraph_test_collection\"\n",
    "persistent_client = chromadb.PersistentClient()\n",
    "collection = persistent_client.get_or_create_collection(COLLECTION_NAME)\n",
    "vector_store_from_client = Chroma(\n",
    "    client=persistent_client,\n",
    "    collection_name=COLLECTION_NAME,\n",
    "    embedding_function=local_embedding_model,\n",
    ")"
   ]
  },
  {
   "cell_type": "code",
   "execution_count": 60,
   "metadata": {},
   "outputs": [],
   "source": [
    "tavily_search = TavilySearchResults()"
   ]
  },
  {
   "cell_type": "code",
   "execution_count": 61,
   "metadata": {},
   "outputs": [],
   "source": [
    "is_done_prompt_template = PromptTemplate.from_template(\n",
    "    \"\"\"\n",
    "You are an expert fashion designer. Your goal is to summarize the latest trends in fashion for the average magazine reader.\n",
    "The current year is {current_year} and the month is {current_month}. \n",
    "You are required by your manager to summarize all common fashion categories.\n",
    "You are a diligent designer, so you have precisely tracked the state of your notes so far.\n",
    "\n",
    "CATEGORIES:\n",
    "{categories}\n",
    "                                                       \n",
    "STATE:\n",
    "{state}\n",
    "\n",
    "Your job is to decide whether you are done summarizing all the categories.\n",
    "Return \"true\" if you are done and \"false\" if you are not done.\n",
    "\n",
    "ANSWER:\n",
    "\"\"\"\n",
    ")\n",
    "\n",
    "\n",
    "def is_done_prompt(state: State) -> PromptTemplate:\n",
    "    current_year, current_month = get_current_year_and_month()\n",
    "    return is_done_prompt_template.format(\n",
    "        state=state,\n",
    "        current_year=current_year,\n",
    "        current_month=current_month,\n",
    "        categories=\",\\n\".join(state[\"search_categories\"]),\n",
    "    )"
   ]
  },
  {
   "cell_type": "code",
   "execution_count": 62,
   "metadata": {},
   "outputs": [],
   "source": [
    "search_planner_prompt_template = PromptTemplate.from_template(\n",
    "    \"\"\"\n",
    "You are an expert fashion designer and data scientist. Your goal is to search the internet for the latest fashion trends to summarize them.\n",
    "The current year is {current_year} and the month is {current_month}. \n",
    "Your goal is to come up with a some JSON-formatted internet search queries to learn about the following categories.\n",
    "\n",
    "CATEGORIES:\n",
    "{categories}\n",
    "\n",
    "You are a diligent designer, so you have precisely tracked the state of your notes so far.\n",
    "Don't search about a category if it's already present the below state.\n",
    "STATE:\n",
    "{state}\n",
    "\n",
    "You are also an adept software engineer, who is fluent in JSON. Respond with your search queries in JSON format.\n",
    "Return your JSON answer in markdown format leading with ```json and ending with ```\n",
    "Follow the below JSON format when making your answer.\n",
    "REQUIRED JSON FORMAT:\n",
    "```json\n",
    "{{\n",
    "    \"plans\": [\n",
    "        {{\n",
    "            category: \"example category\",\n",
    "            queries: [\"example query 1\", \"example query 2\", ...]\n",
    "        }}\n",
    "    ]\n",
    "}}\n",
    "```\n",
    "\n",
    "SEARCH QUERIES JSON:\n",
    "\"\"\"\n",
    ")\n",
    "\n",
    "\n",
    "def search_planner_prompt(state: State) -> PromptTemplate:\n",
    "    current_year, current_month = get_current_year_and_month()\n",
    "    print(f\"Search Categories = {state[\"search_categories\"]}\")\n",
    "    return search_planner_prompt_template.format(\n",
    "        state=state,\n",
    "        current_year=current_year,\n",
    "        current_month=current_month,\n",
    "        categories=\",\\n\".join(state[\"search_categories\"]),\n",
    "    )"
   ]
  },
  {
   "cell_type": "code",
   "execution_count": 63,
   "metadata": {},
   "outputs": [],
   "source": [
    "search_rephraser_prompt_template = PromptTemplate.from_template(\n",
    "    \"\"\"\n",
    "You are an expert fashion designer. Your goal is to come up with a list of relevant fashion categories for each season.\n",
    "\n",
    "You are also an adept software engineer, who is fluent in JSON. Respond with your search queries in JSON format.\n",
    "Return your JSON answer in markdown format leading with ```json and ending with ```\n",
    "Follow the below JSON format when making your answer.\n",
    "REQUIRED JSON FORMAT:\n",
    "```json\n",
    "{{\n",
    "    \"categories\": [\n",
    "        \"category_1\",\n",
    "        \"category_2\",\n",
    "        ...\n",
    "    ]\n",
    "}}\n",
    "```\n",
    "\n",
    "FASHION CATEGORIES JSON:\n",
    "\"\"\"\n",
    ")"
   ]
  },
  {
   "cell_type": "code",
   "execution_count": 64,
   "metadata": {},
   "outputs": [],
   "source": [
    "fashion_summarizer_prompt_template = PromptTemplate.from_template(\n",
    "    \"\"\"\n",
    "You are an expert fashion designer and social media influencer. Your goal is to summarize the latest trends in fashion.\n",
    "You have done a significant amount of research in the past month ({current_month}, {current_year}) to inform your search.\n",
    "\n",
    "Given the research findings about fashion trends below:\n",
    "{retrieved_chunks}\n",
    "\n",
    "Write a concise summary about the trends. Make sure your answer touches on all the trends and is as informative as possible!\n",
    "\n",
    "Summary:\n",
    "\"\"\"\n",
    ")"
   ]
  },
  {
   "cell_type": "code",
   "execution_count": 65,
   "metadata": {},
   "outputs": [],
   "source": [
    "chunk_format = PromptTemplate.from_template(\"\"\"\n",
    "Note:\n",
    "{page_content}\n",
    "Citation:\n",
    "{metadata}\n",
    "\"\"\")"
   ]
  },
  {
   "cell_type": "code",
   "execution_count": 66,
   "metadata": {},
   "outputs": [],
   "source": [
    "def extract_json_from_markdown(text: str) -> str:\n",
    "    \"\"\"\n",
    "    Extracts JSON content from markdown-formatted text.\n",
    "    LLMs often return code in markdown format for users, parses for use with raw code.\n",
    "    Args:\n",
    "        text (str): The markdown-formatted text containing JSON.\n",
    "    \n",
    "    Returns:\n",
    "        str: The extracted JSON content, or an empty string if no JSON is found.\n",
    "    \"\"\"\n",
    "    import re\n",
    "    \n",
    "    # Pattern to match JSON blocks in markdown, both with and without the 'json' specifier\n",
    "    pattern = r'```(?:json)?\\s*([\\s\\S]*?)\\s*```'\n",
    "    \n",
    "    # Find all matches\n",
    "    matches = re.findall(pattern, text)\n",
    "    \n",
    "    # Return the first match if found, otherwise an empty string\n",
    "    return matches[0] if matches else \"\"\n"
   ]
  },
  {
   "cell_type": "code",
   "execution_count": 67,
   "metadata": {},
   "outputs": [],
   "source": [
    "def save_tavily_res_to_vector_db(tavily_res: AIMessage) -> None:\n",
    "    chunk_id = str(uuid.uuid4())\n",
    "    search_msg = tavily_res.content[0][\"content\"]\n",
    "    search_url = tavily_res.content[0][\"url\"]\n",
    "    doc = Document(\n",
    "        page_content=search_msg,\n",
    "        metadata={\"query\": search_msg, \"url\": search_url},\n",
    "        id=chunk_id,\n",
    "    )\n",
    "    vector_store.add_documents(documents=[doc], ids=[chunk_id])"
   ]
  },
  {
   "cell_type": "code",
   "execution_count": 68,
   "metadata": {},
   "outputs": [],
   "source": [
    "class SearchCategories(BaseModel):\n",
    "    categories: list[str]"
   ]
  },
  {
   "cell_type": "code",
   "execution_count": 69,
   "metadata": {},
   "outputs": [],
   "source": [
    "retriever = vector_store.as_retriever(\n",
    "    search_type=\"mmr\", search_kwargs={\"k\": 10, \"fetch_k\": 5}\n",
    ")"
   ]
  },
  {
   "cell_type": "code",
   "execution_count": 70,
   "metadata": {},
   "outputs": [
    {
     "data": {
      "text/plain": [
       "<langgraph.graph.state.StateGraph at 0x16131acc0>"
      ]
     },
     "execution_count": 70,
     "metadata": {},
     "output_type": "execute_result"
    }
   ],
   "source": [
    "def search_planner(state: State):\n",
    "    retries = 0\n",
    "    while retries < SEARCH_PLAN_RETRY_LIMIT:\n",
    "        raw_search_plan = local_llm.invoke(input=search_planner_prompt(state))\n",
    "        try:\n",
    "            extracted_json = extract_json_from_markdown(raw_search_plan.content)\n",
    "            print(f\"Extracted JSON = {extracted_json}\")\n",
    "            search_plan = SearchPlans.model_validate_json(extracted_json)\n",
    "            return {\"messages\": state[\"messages\"], \"search_plans\": search_plan}\n",
    "        except Exception as e:\n",
    "            print(f\"Retrying search plan extraction: {e}\")\n",
    "            print(traceback.print_exc())\n",
    "            retries += 1\n",
    "\n",
    "    raise ValueError(\n",
    "        f\"Search planner failed to return valid JSON after {SEARCH_PLAN_RETRY_LIMIT} retries.\"\n",
    "    )\n",
    "\n",
    "\n",
    "def search_rephraser(state: State):\n",
    "    retries = 0\n",
    "    while retries < SEARCH_PLAN_RETRY_LIMIT:\n",
    "        try:\n",
    "            new_search_categories = local_llm.invoke(\n",
    "                input=search_rephraser_prompt_template.format()\n",
    "            )\n",
    "            print(f\"New Search categories: {new_search_categories}\")\n",
    "            new_categories = SearchCategories.model_validate_json(\n",
    "                extract_json_from_markdown(new_search_categories.content)\n",
    "            )\n",
    "            return {\n",
    "                \"messages\": state[\"messages\"],\n",
    "                \"search_categories\": update_search_categories(\n",
    "                    state[\"search_categories\"], new_categories.categories\n",
    "                ),\n",
    "            }\n",
    "        except Exception as e:\n",
    "            retries += 1\n",
    "            print(f\"There was an exception making the new search categories: {e}\")\n",
    "\n",
    "    raise ValueError(\n",
    "        f\"Search planner failed to return valid JSON after {SEARCH_PLAN_RETRY_LIMIT} retries.\"\n",
    "    )\n",
    "\n",
    "\n",
    "# TODO: Improve model consistency at outputting JSON search plans\n",
    "def search_tool(state: State):\n",
    "    print(f\"State at start of search_tool: {state}\")\n",
    "    search_plan = state[\n",
    "        \"search_plans\"\n",
    "    ]  # Assume the search planner always goes to the search tool\n",
    "\n",
    "    for plan in search_plan.plans:\n",
    "        print(f\"Search plan: {plan}\")\n",
    "        for query in plan.queries:\n",
    "            res = AIMessage(content=tavily_search.invoke({\"query\": query}))\n",
    "            if \"HTTPError\" in res.content:\n",
    "                raise ValueError(f\"HTTP exception in calling Tavily API: {res}\")\n",
    "            save_tavily_res_to_vector_db(res)\n",
    "            add_messages(state[\"messages\"], res)\n",
    "\n",
    "    state[\"num_search_iterations\"] += 1\n",
    "    return {\n",
    "        \"messages\": state[\"messages\"],\n",
    "        \"num_search_iterations\": increment_search_iterations(\n",
    "            state[\"num_search_iterations\"], 1\n",
    "        ),\n",
    "    }\n",
    "\n",
    "\n",
    "def is_search_done(state: State) -> bool:\n",
    "    if state[\"num_search_iterations\"] < NUM_SEARCH_ITERATIONS:\n",
    "        return (\n",
    "            \"rephrase\"  # Rephrase the queries to search a greater variety of websites\n",
    "        )\n",
    "\n",
    "    # TODO: Fine-tune an LLM to check if a search is complete\n",
    "    res = local_llm.invoke(input=is_done_prompt(state)).content\n",
    "    if \"true\" in res.lower():\n",
    "        print(\"AGENT DONE\")\n",
    "        return \"true\"\n",
    "    elif \"false\" in res.lower():\n",
    "        print(\"AGENT NOT DONE, STARTING NEXT SEARCH\")\n",
    "        return \"false\"\n",
    "    else:\n",
    "        print(f\"{res}\")\n",
    "        raise ValueError(\"AI failed to decide if search was complete.\")\n",
    "\n",
    "\n",
    "def summarize_fashion_trends(state: State) -> bool:\n",
    "    year, month = get_current_year_and_month()\n",
    "    user_query = state[\"messages\"][0].content\n",
    "    retrieved_docs = retriever.invoke(user_query)\n",
    "    summary = local_llm.invoke(\n",
    "        input=fashion_summarizer_prompt_template.format(\n",
    "            current_year=year,\n",
    "            current_month=month,\n",
    "            retrieved_chunks=\"\\n\".join(\n",
    "                [\n",
    "                    chunk_format.format(\n",
    "                        page_content=doc.page_content, metadata=str(doc.metadata)\n",
    "                    )\n",
    "                    for doc in retrieved_docs\n",
    "                    if doc.metadata\n",
    "                ]\n",
    "            ),\n",
    "        )\n",
    "    )\n",
    "    add_messages(state[\"messages\"], summary)\n",
    "    print(\"AGENT DONE SUMMARIZING FINDINGS\")\n",
    "    print(summary.content)\n",
    "    return {\"messages\": state[\"messages\"]}\n",
    "\n",
    "\n",
    "graph_builder.add_node(\"search_planner\", search_planner)\n",
    "graph_builder.add_node(\"search_tool\", search_tool)\n",
    "graph_builder.add_node(\"search_rephraser\", search_rephraser)\n",
    "# graph_builder.add_node(\"summarize_fashion_trends\", summarize_fashion_trends)"
   ]
  },
  {
   "cell_type": "code",
   "execution_count": 71,
   "metadata": {},
   "outputs": [],
   "source": [
    "graph_builder.add_edge(START, \"search_planner\")\n",
    "graph_builder.add_edge(\"search_planner\", \"search_tool\")\n",
    "graph_builder.add_conditional_edges(\n",
    "    \"search_tool\",\n",
    "    is_search_done,\n",
    "    path_map={\n",
    "        \"true\": END,\n",
    "        \"false\": \"search_planner\",\n",
    "        \"rephrase\": \"search_rephraser\",\n",
    "    },\n",
    ")\n",
    "graph_builder.add_edge(\"search_rephraser\", \"search_planner\")\n",
    "\n",
    "graph = graph_builder.compile()"
   ]
  },
  {
   "cell_type": "code",
   "execution_count": 72,
   "metadata": {},
   "outputs": [
    {
     "data": {
      "image/jpeg": "[encoded data removed]",
      "text/plain": [
       "<IPython.core.display.Image object>"
      ]
     },
     "metadata": {},
     "output_type": "display_data"
    }
   ],
   "source": [
    "def draw_graph(graph: CompiledStateGraph):\n",
    "    display(Image(graph.get_graph().draw_mermaid_png()))\n",
    "\n",
    "draw_graph(graph)"
   ]
  },
  {
   "cell_type": "code",
   "execution_count": 73,
   "metadata": {},
   "outputs": [
    {
     "name": "stdout",
     "output_type": "stream",
     "text": [
      "Search Categories = []\n",
      "Extracted JSON = {\n",
      "    \"plans\": [\n",
      "        {\n",
      "            \"category\": \"Women's Fashion\",\n",
      "            \"queries\": [\"women's fashion trends 2024\", \"women's clothing styles 9/2024\", \"latest women's fashion September 2024\", \"trending women's fashion 2024\", \"women's fashion predictions for fall 2024\"]\n",
      "        },\n",
      "        {\n",
      "            \"category\": \"Men's Fashion\",\n",
      "            // Not searching yet, as per the state: {'messages': [...], 'num_search_iterations': 0, 'search_categories': []}\n",
      "        },\n",
      "        {\n",
      "            \"category\": \"Accessories\",\n",
      "            \"queries\": [\"trending accessories for women and men\", \"latest handbag styles\", \"men's accessory trends\", \"women's jewelry fashion\", \"fashionable watch designs\"]\n",
      "        },\n",
      "        {\n",
      "            \"category\": \"Streetwear\",\n",
      "            \"queries\": [\"streetwear fashion trends 2024\", \"streetwear clothing styles September 2024\", \"trending streetwear brands\", \"latest streetwear accessories\", \"streetwear fashion predictions for fall 2024\"]\n",
      "        }\n",
      "    ]\n",
      "}\n",
      "Retrying search plan extraction: 1 validation error for SearchPlans\n",
      "  Invalid JSON: key must be a string at line 9 column 13 [type=json_invalid, input_value='{\\n    \"plans\": [\\n     ...\"]\\n        }\\n    ]\\n}', input_type=str]\n",
      "    For further information visit https://errors.pydantic.dev/2.8/v/json_invalid\n"
     ]
    },
    {
     "ename": "KeyboardInterrupt",
     "evalue": "",
     "output_type": "error",
     "traceback": [
      "\u001b[0;31m---------------------------------------------------------------------------\u001b[0m",
      "\u001b[0;31mValidationError\u001b[0m                           Traceback (most recent call last)",
      "Cell \u001b[0;32mIn[70], line 8\u001b[0m, in \u001b[0;36msearch_planner\u001b[0;34m(state)\u001b[0m\n\u001b[1;32m      7\u001b[0m \u001b[38;5;28mprint\u001b[39m(\u001b[38;5;124mf\u001b[39m\u001b[38;5;124m\"\u001b[39m\u001b[38;5;124mExtracted JSON = \u001b[39m\u001b[38;5;132;01m{\u001b[39;00mextracted_json\u001b[38;5;132;01m}\u001b[39;00m\u001b[38;5;124m\"\u001b[39m)\n\u001b[0;32m----> 8\u001b[0m search_plan \u001b[38;5;241m=\u001b[39m \u001b[43mSearchPlans\u001b[49m\u001b[38;5;241;43m.\u001b[39;49m\u001b[43mmodel_validate_json\u001b[49m\u001b[43m(\u001b[49m\u001b[43mextracted_json\u001b[49m\u001b[43m)\u001b[49m\n\u001b[1;32m      9\u001b[0m \u001b[38;5;28;01mreturn\u001b[39;00m {\u001b[38;5;124m\"\u001b[39m\u001b[38;5;124mmessages\u001b[39m\u001b[38;5;124m\"\u001b[39m: state[\u001b[38;5;124m\"\u001b[39m\u001b[38;5;124mmessages\u001b[39m\u001b[38;5;124m\"\u001b[39m], \u001b[38;5;124m\"\u001b[39m\u001b[38;5;124msearch_plans\u001b[39m\u001b[38;5;124m\"\u001b[39m: search_plan}\n",
      "File \u001b[0;32m~/miniconda3/envs/fashion_analyzer/lib/python3.12/site-packages/pydantic/main.py:597\u001b[0m, in \u001b[0;36mBaseModel.model_validate_json\u001b[0;34m(cls, json_data, strict, context)\u001b[0m\n\u001b[1;32m    596\u001b[0m __tracebackhide__ \u001b[38;5;241m=\u001b[39m \u001b[38;5;28;01mTrue\u001b[39;00m\n\u001b[0;32m--> 597\u001b[0m \u001b[38;5;28;01mreturn\u001b[39;00m \u001b[38;5;28;43mcls\u001b[39;49m\u001b[38;5;241;43m.\u001b[39;49m\u001b[43m__pydantic_validator__\u001b[49m\u001b[38;5;241;43m.\u001b[39;49m\u001b[43mvalidate_json\u001b[49m\u001b[43m(\u001b[49m\u001b[43mjson_data\u001b[49m\u001b[43m,\u001b[49m\u001b[43m \u001b[49m\u001b[43mstrict\u001b[49m\u001b[38;5;241;43m=\u001b[39;49m\u001b[43mstrict\u001b[49m\u001b[43m,\u001b[49m\u001b[43m \u001b[49m\u001b[43mcontext\u001b[49m\u001b[38;5;241;43m=\u001b[39;49m\u001b[43mcontext\u001b[49m\u001b[43m)\u001b[49m\n",
      "\u001b[0;31mValidationError\u001b[0m: 1 validation error for SearchPlans\n  Invalid JSON: key must be a string at line 9 column 13 [type=json_invalid, input_value='{\\n    \"plans\": [\\n     ...\"]\\n        }\\n    ]\\n}', input_type=str]\n    For further information visit https://errors.pydantic.dev/2.8/v/json_invalid",
      "\nDuring handling of the above exception, another exception occurred:\n",
      "\u001b[0;31mKeyboardInterrupt\u001b[0m                         Traceback (most recent call last)",
      "Cell \u001b[0;32mIn[73], line 2\u001b[0m\n\u001b[1;32m      1\u001b[0m init_msg \u001b[38;5;241m=\u001b[39m [HumanMessage(content\u001b[38;5;241m=\u001b[39m\u001b[38;5;124m\"\u001b[39m\u001b[38;5;124mSearch 5 websites about men\u001b[39m\u001b[38;5;124m'\u001b[39m\u001b[38;5;124ms shoes.\u001b[39m\u001b[38;5;124m\"\u001b[39m)]\n\u001b[0;32m----> 2\u001b[0m \u001b[38;5;28;43;01mfor\u001b[39;49;00m\u001b[43m \u001b[49m\u001b[43mevent\u001b[49m\u001b[43m \u001b[49m\u001b[38;5;129;43;01min\u001b[39;49;00m\u001b[43m \u001b[49m\u001b[43mgraph\u001b[49m\u001b[38;5;241;43m.\u001b[39;49m\u001b[43mstream\u001b[49m\u001b[43m(\u001b[49m\u001b[43m{\u001b[49m\u001b[38;5;124;43m\"\u001b[39;49m\u001b[38;5;124;43mmessages\u001b[39;49m\u001b[38;5;124;43m\"\u001b[39;49m\u001b[43m:\u001b[49m\u001b[43m \u001b[49m\u001b[43minit_msg\u001b[49m\u001b[43m}\u001b[49m\u001b[43m)\u001b[49m\u001b[43m:\u001b[49m\n\u001b[1;32m      3\u001b[0m \u001b[43m    \u001b[49m\u001b[38;5;28;43;01mfor\u001b[39;49;00m\u001b[43m \u001b[49m\u001b[43mvalue\u001b[49m\u001b[43m \u001b[49m\u001b[38;5;129;43;01min\u001b[39;49;00m\u001b[43m \u001b[49m\u001b[43mevent\u001b[49m\u001b[38;5;241;43m.\u001b[39;49m\u001b[43mvalues\u001b[49m\u001b[43m(\u001b[49m\u001b[43m)\u001b[49m\u001b[43m:\u001b[49m\n\u001b[1;32m      4\u001b[0m \u001b[43m        \u001b[49m\u001b[38;5;28;43mprint\u001b[39;49m\u001b[43m(\u001b[49m\u001b[38;5;124;43m\"\u001b[39;49m\u001b[38;5;124;43mAssistant:\u001b[39;49m\u001b[38;5;124;43m\"\u001b[39;49m\u001b[43m,\u001b[49m\u001b[43m \u001b[49m\u001b[43mvalue\u001b[49m\u001b[43m[\u001b[49m\u001b[38;5;124;43m\"\u001b[39;49m\u001b[38;5;124;43mmessages\u001b[39;49m\u001b[38;5;124;43m\"\u001b[39;49m\u001b[43m]\u001b[49m\u001b[43m[\u001b[49m\u001b[38;5;241;43m-\u001b[39;49m\u001b[38;5;241;43m1\u001b[39;49m\u001b[43m]\u001b[49m\u001b[38;5;241;43m.\u001b[39;49m\u001b[43mcontent\u001b[49m\u001b[43m)\u001b[49m\n",
      "File \u001b[0;32m~/miniconda3/envs/fashion_analyzer/lib/python3.12/site-packages/langgraph/pregel/__init__.py:1290\u001b[0m, in \u001b[0;36mPregel.stream\u001b[0;34m(self, input, config, stream_mode, output_keys, interrupt_before, interrupt_after, debug, subgraphs)\u001b[0m\n\u001b[1;32m   1279\u001b[0m     \u001b[38;5;66;03m# Similarly to Bulk Synchronous Parallel / Pregel model\u001b[39;00m\n\u001b[1;32m   1280\u001b[0m     \u001b[38;5;66;03m# computation proceeds in steps, while there are channel updates\u001b[39;00m\n\u001b[1;32m   1281\u001b[0m     \u001b[38;5;66;03m# channel updates from step N are only visible in step N+1\u001b[39;00m\n\u001b[1;32m   1282\u001b[0m     \u001b[38;5;66;03m# channels are guaranteed to be immutable for the duration of the step,\u001b[39;00m\n\u001b[1;32m   1283\u001b[0m     \u001b[38;5;66;03m# with channel updates applied only at the transition between steps\u001b[39;00m\n\u001b[1;32m   1284\u001b[0m     \u001b[38;5;28;01mwhile\u001b[39;00m loop\u001b[38;5;241m.\u001b[39mtick(\n\u001b[1;32m   1285\u001b[0m         input_keys\u001b[38;5;241m=\u001b[39m\u001b[38;5;28mself\u001b[39m\u001b[38;5;241m.\u001b[39minput_channels,\n\u001b[1;32m   1286\u001b[0m         interrupt_before\u001b[38;5;241m=\u001b[39minterrupt_before_,\n\u001b[1;32m   1287\u001b[0m         interrupt_after\u001b[38;5;241m=\u001b[39minterrupt_after_,\n\u001b[1;32m   1288\u001b[0m         manager\u001b[38;5;241m=\u001b[39mrun_manager,\n\u001b[1;32m   1289\u001b[0m     ):\n\u001b[0;32m-> 1290\u001b[0m \u001b[43m        \u001b[49m\u001b[38;5;28;43;01mfor\u001b[39;49;00m\u001b[43m \u001b[49m\u001b[43m_\u001b[49m\u001b[43m \u001b[49m\u001b[38;5;129;43;01min\u001b[39;49;00m\u001b[43m \u001b[49m\u001b[43mrunner\u001b[49m\u001b[38;5;241;43m.\u001b[39;49m\u001b[43mtick\u001b[49m\u001b[43m(\u001b[49m\n\u001b[1;32m   1291\u001b[0m \u001b[43m            \u001b[49m\u001b[43mloop\u001b[49m\u001b[38;5;241;43m.\u001b[39;49m\u001b[43mtasks\u001b[49m\u001b[38;5;241;43m.\u001b[39;49m\u001b[43mvalues\u001b[49m\u001b[43m(\u001b[49m\u001b[43m)\u001b[49m\u001b[43m,\u001b[49m\n\u001b[1;32m   1292\u001b[0m \u001b[43m            \u001b[49m\u001b[43mtimeout\u001b[49m\u001b[38;5;241;43m=\u001b[39;49m\u001b[38;5;28;43mself\u001b[39;49m\u001b[38;5;241;43m.\u001b[39;49m\u001b[43mstep_timeout\u001b[49m\u001b[43m,\u001b[49m\n\u001b[1;32m   1293\u001b[0m \u001b[43m            \u001b[49m\u001b[43mretry_policy\u001b[49m\u001b[38;5;241;43m=\u001b[39;49m\u001b[38;5;28;43mself\u001b[39;49m\u001b[38;5;241;43m.\u001b[39;49m\u001b[43mretry_policy\u001b[49m\u001b[43m,\u001b[49m\n\u001b[1;32m   1294\u001b[0m \u001b[43m            \u001b[49m\u001b[43mget_waiter\u001b[49m\u001b[38;5;241;43m=\u001b[39;49m\u001b[43mget_waiter\u001b[49m\u001b[43m,\u001b[49m\n\u001b[1;32m   1295\u001b[0m \u001b[43m        \u001b[49m\u001b[43m)\u001b[49m\u001b[43m:\u001b[49m\n\u001b[1;32m   1296\u001b[0m \u001b[43m            \u001b[49m\u001b[38;5;66;43;03m# emit output\u001b[39;49;00m\n\u001b[1;32m   1297\u001b[0m \u001b[43m            \u001b[49m\u001b[38;5;28;43;01myield from\u001b[39;49;00m\u001b[43m \u001b[49m\u001b[43moutput\u001b[49m\u001b[43m(\u001b[49m\u001b[43m)\u001b[49m\n\u001b[1;32m   1298\u001b[0m \u001b[38;5;66;03m# emit output\u001b[39;00m\n",
      "File \u001b[0;32m~/miniconda3/envs/fashion_analyzer/lib/python3.12/site-packages/langgraph/pregel/runner.py:56\u001b[0m, in \u001b[0;36mPregelRunner.tick\u001b[0;34m(self, tasks, reraise, timeout, retry_policy, get_waiter)\u001b[0m\n\u001b[1;32m     54\u001b[0m t \u001b[38;5;241m=\u001b[39m tasks[\u001b[38;5;241m0\u001b[39m]\n\u001b[1;32m     55\u001b[0m \u001b[38;5;28;01mtry\u001b[39;00m:\n\u001b[0;32m---> 56\u001b[0m     \u001b[43mrun_with_retry\u001b[49m\u001b[43m(\u001b[49m\u001b[43mt\u001b[49m\u001b[43m,\u001b[49m\u001b[43m \u001b[49m\u001b[43mretry_policy\u001b[49m\u001b[43m)\u001b[49m\n\u001b[1;32m     57\u001b[0m     \u001b[38;5;28mself\u001b[39m\u001b[38;5;241m.\u001b[39mcommit(t, \u001b[38;5;28;01mNone\u001b[39;00m)\n\u001b[1;32m     58\u001b[0m \u001b[38;5;28;01mexcept\u001b[39;00m \u001b[38;5;167;01mException\u001b[39;00m \u001b[38;5;28;01mas\u001b[39;00m exc:\n",
      "File \u001b[0;32m~/miniconda3/envs/fashion_analyzer/lib/python3.12/site-packages/langgraph/pregel/retry.py:29\u001b[0m, in \u001b[0;36mrun_with_retry\u001b[0;34m(task, retry_policy)\u001b[0m\n\u001b[1;32m     27\u001b[0m task\u001b[38;5;241m.\u001b[39mwrites\u001b[38;5;241m.\u001b[39mclear()\n\u001b[1;32m     28\u001b[0m \u001b[38;5;66;03m# run the task\u001b[39;00m\n\u001b[0;32m---> 29\u001b[0m \u001b[43mtask\u001b[49m\u001b[38;5;241;43m.\u001b[39;49m\u001b[43mproc\u001b[49m\u001b[38;5;241;43m.\u001b[39;49m\u001b[43minvoke\u001b[49m\u001b[43m(\u001b[49m\u001b[43mtask\u001b[49m\u001b[38;5;241;43m.\u001b[39;49m\u001b[43minput\u001b[49m\u001b[43m,\u001b[49m\u001b[43m \u001b[49m\u001b[43mconfig\u001b[49m\u001b[43m)\u001b[49m\n\u001b[1;32m     30\u001b[0m \u001b[38;5;66;03m# if successful, end\u001b[39;00m\n\u001b[1;32m     31\u001b[0m \u001b[38;5;28;01mbreak\u001b[39;00m\n",
      "File \u001b[0;32m~/miniconda3/envs/fashion_analyzer/lib/python3.12/site-packages/langgraph/utils/runnable.py:385\u001b[0m, in \u001b[0;36mRunnableSeq.invoke\u001b[0;34m(self, input, config, **kwargs)\u001b[0m\n\u001b[1;32m    383\u001b[0m context\u001b[38;5;241m.\u001b[39mrun(_set_config_context, config)\n\u001b[1;32m    384\u001b[0m \u001b[38;5;28;01mif\u001b[39;00m i \u001b[38;5;241m==\u001b[39m \u001b[38;5;241m0\u001b[39m:\n\u001b[0;32m--> 385\u001b[0m     \u001b[38;5;28minput\u001b[39m \u001b[38;5;241m=\u001b[39m \u001b[43mcontext\u001b[49m\u001b[38;5;241;43m.\u001b[39;49m\u001b[43mrun\u001b[49m\u001b[43m(\u001b[49m\u001b[43mstep\u001b[49m\u001b[38;5;241;43m.\u001b[39;49m\u001b[43minvoke\u001b[49m\u001b[43m,\u001b[49m\u001b[43m \u001b[49m\u001b[38;5;28;43minput\u001b[39;49m\u001b[43m,\u001b[49m\u001b[43m \u001b[49m\u001b[43mconfig\u001b[49m\u001b[43m,\u001b[49m\u001b[43m \u001b[49m\u001b[38;5;241;43m*\u001b[39;49m\u001b[38;5;241;43m*\u001b[39;49m\u001b[43mkwargs\u001b[49m\u001b[43m)\u001b[49m\n\u001b[1;32m    386\u001b[0m \u001b[38;5;28;01melse\u001b[39;00m:\n\u001b[1;32m    387\u001b[0m     \u001b[38;5;28minput\u001b[39m \u001b[38;5;241m=\u001b[39m context\u001b[38;5;241m.\u001b[39mrun(step\u001b[38;5;241m.\u001b[39minvoke, \u001b[38;5;28minput\u001b[39m, config)\n",
      "File \u001b[0;32m~/miniconda3/envs/fashion_analyzer/lib/python3.12/site-packages/langgraph/utils/runnable.py:167\u001b[0m, in \u001b[0;36mRunnableCallable.invoke\u001b[0;34m(self, input, config, **kwargs)\u001b[0m\n\u001b[1;32m    165\u001b[0m \u001b[38;5;28;01melse\u001b[39;00m:\n\u001b[1;32m    166\u001b[0m     context\u001b[38;5;241m.\u001b[39mrun(_set_config_context, config)\n\u001b[0;32m--> 167\u001b[0m     ret \u001b[38;5;241m=\u001b[39m \u001b[43mcontext\u001b[49m\u001b[38;5;241;43m.\u001b[39;49m\u001b[43mrun\u001b[49m\u001b[43m(\u001b[49m\u001b[38;5;28;43mself\u001b[39;49m\u001b[38;5;241;43m.\u001b[39;49m\u001b[43mfunc\u001b[49m\u001b[43m,\u001b[49m\u001b[43m \u001b[49m\u001b[38;5;28;43minput\u001b[39;49m\u001b[43m,\u001b[49m\u001b[43m \u001b[49m\u001b[38;5;241;43m*\u001b[39;49m\u001b[38;5;241;43m*\u001b[39;49m\u001b[43mkwargs\u001b[49m\u001b[43m)\u001b[49m\n\u001b[1;32m    168\u001b[0m \u001b[38;5;28;01mif\u001b[39;00m \u001b[38;5;28misinstance\u001b[39m(ret, Runnable) \u001b[38;5;129;01mand\u001b[39;00m \u001b[38;5;28mself\u001b[39m\u001b[38;5;241m.\u001b[39mrecurse:\n\u001b[1;32m    169\u001b[0m     \u001b[38;5;28;01mreturn\u001b[39;00m ret\u001b[38;5;241m.\u001b[39minvoke(\u001b[38;5;28minput\u001b[39m, config)\n",
      "Cell \u001b[0;32mIn[70], line 12\u001b[0m, in \u001b[0;36msearch_planner\u001b[0;34m(state)\u001b[0m\n\u001b[1;32m     10\u001b[0m     \u001b[38;5;28;01mexcept\u001b[39;00m \u001b[38;5;167;01mException\u001b[39;00m \u001b[38;5;28;01mas\u001b[39;00m e:\n\u001b[1;32m     11\u001b[0m         \u001b[38;5;28mprint\u001b[39m(\u001b[38;5;124mf\u001b[39m\u001b[38;5;124m\"\u001b[39m\u001b[38;5;124mRetrying search plan extraction: \u001b[39m\u001b[38;5;132;01m{\u001b[39;00me\u001b[38;5;132;01m}\u001b[39;00m\u001b[38;5;124m\"\u001b[39m)\n\u001b[0;32m---> 12\u001b[0m         \u001b[38;5;28mprint\u001b[39m(\u001b[43mtraceback\u001b[49m\u001b[38;5;241;43m.\u001b[39;49m\u001b[43mprint_exc\u001b[49m\u001b[43m(\u001b[49m\u001b[43m)\u001b[49m)\n\u001b[1;32m     13\u001b[0m         retries \u001b[38;5;241m+\u001b[39m\u001b[38;5;241m=\u001b[39m \u001b[38;5;241m1\u001b[39m\n\u001b[1;32m     15\u001b[0m \u001b[38;5;28;01mraise\u001b[39;00m \u001b[38;5;167;01mValueError\u001b[39;00m(\n\u001b[1;32m     16\u001b[0m     \u001b[38;5;124mf\u001b[39m\u001b[38;5;124m\"\u001b[39m\u001b[38;5;124mSearch planner failed to return valid JSON after \u001b[39m\u001b[38;5;132;01m{\u001b[39;00mSEARCH_PLAN_RETRY_LIMIT\u001b[38;5;132;01m}\u001b[39;00m\u001b[38;5;124m retries.\u001b[39m\u001b[38;5;124m\"\u001b[39m\n\u001b[1;32m     17\u001b[0m )\n",
      "File \u001b[0;32m~/miniconda3/envs/fashion_analyzer/lib/python3.12/traceback.py:180\u001b[0m, in \u001b[0;36mprint_exc\u001b[0;34m(limit, file, chain)\u001b[0m\n\u001b[1;32m    178\u001b[0m \u001b[38;5;28;01mdef\u001b[39;00m \u001b[38;5;21mprint_exc\u001b[39m(limit\u001b[38;5;241m=\u001b[39m\u001b[38;5;28;01mNone\u001b[39;00m, file\u001b[38;5;241m=\u001b[39m\u001b[38;5;28;01mNone\u001b[39;00m, chain\u001b[38;5;241m=\u001b[39m\u001b[38;5;28;01mTrue\u001b[39;00m):\n\u001b[1;32m    179\u001b[0m \u001b[38;5;250m    \u001b[39m\u001b[38;5;124;03m\"\"\"Shorthand for 'print_exception(sys.exception(), limit, file, chain)'.\"\"\"\u001b[39;00m\n\u001b[0;32m--> 180\u001b[0m     \u001b[43mprint_exception\u001b[49m\u001b[43m(\u001b[49m\u001b[43msys\u001b[49m\u001b[38;5;241;43m.\u001b[39;49m\u001b[43mexception\u001b[49m\u001b[43m(\u001b[49m\u001b[43m)\u001b[49m\u001b[43m,\u001b[49m\u001b[43m \u001b[49m\u001b[43mlimit\u001b[49m\u001b[38;5;241;43m=\u001b[39;49m\u001b[43mlimit\u001b[49m\u001b[43m,\u001b[49m\u001b[43m \u001b[49m\u001b[43mfile\u001b[49m\u001b[38;5;241;43m=\u001b[39;49m\u001b[43mfile\u001b[49m\u001b[43m,\u001b[49m\u001b[43m \u001b[49m\u001b[43mchain\u001b[49m\u001b[38;5;241;43m=\u001b[39;49m\u001b[43mchain\u001b[49m\u001b[43m)\u001b[49m\n",
      "File \u001b[0;32m~/miniconda3/envs/fashion_analyzer/lib/python3.12/traceback.py:124\u001b[0m, in \u001b[0;36mprint_exception\u001b[0;34m(exc, value, tb, limit, file, chain)\u001b[0m\n\u001b[1;32m    113\u001b[0m \u001b[38;5;250m\u001b[39m\u001b[38;5;124;03m\"\"\"Print exception up to 'limit' stack trace entries from 'tb' to 'file'.\u001b[39;00m\n\u001b[1;32m    114\u001b[0m \n\u001b[1;32m    115\u001b[0m \u001b[38;5;124;03mThis differs from print_tb() in the following ways: (1) if\u001b[39;00m\n\u001b[0;32m   (...)\u001b[0m\n\u001b[1;32m    121\u001b[0m \u001b[38;5;124;03mposition of the error.\u001b[39;00m\n\u001b[1;32m    122\u001b[0m \u001b[38;5;124;03m\"\"\"\u001b[39;00m\n\u001b[1;32m    123\u001b[0m value, tb \u001b[38;5;241m=\u001b[39m _parse_value_tb(exc, value, tb)\n\u001b[0;32m--> 124\u001b[0m te \u001b[38;5;241m=\u001b[39m \u001b[43mTracebackException\u001b[49m\u001b[43m(\u001b[49m\u001b[38;5;28;43mtype\u001b[39;49m\u001b[43m(\u001b[49m\u001b[43mvalue\u001b[49m\u001b[43m)\u001b[49m\u001b[43m,\u001b[49m\u001b[43m \u001b[49m\u001b[43mvalue\u001b[49m\u001b[43m,\u001b[49m\u001b[43m \u001b[49m\u001b[43mtb\u001b[49m\u001b[43m,\u001b[49m\u001b[43m \u001b[49m\u001b[43mlimit\u001b[49m\u001b[38;5;241;43m=\u001b[39;49m\u001b[43mlimit\u001b[49m\u001b[43m,\u001b[49m\u001b[43m \u001b[49m\u001b[43mcompact\u001b[49m\u001b[38;5;241;43m=\u001b[39;49m\u001b[38;5;28;43;01mTrue\u001b[39;49;00m\u001b[43m)\u001b[49m\n\u001b[1;32m    125\u001b[0m te\u001b[38;5;241m.\u001b[39mprint(file\u001b[38;5;241m=\u001b[39mfile, chain\u001b[38;5;241m=\u001b[39mchain)\n",
      "File \u001b[0;32m~/miniconda3/envs/fashion_analyzer/lib/python3.12/traceback.py:733\u001b[0m, in \u001b[0;36mTracebackException.__init__\u001b[0;34m(self, exc_type, exc_value, exc_traceback, limit, lookup_lines, capture_locals, compact, max_group_width, max_group_depth, _seen)\u001b[0m\n\u001b[1;32m    730\u001b[0m \u001b[38;5;28mself\u001b[39m\u001b[38;5;241m.\u001b[39mmax_group_width \u001b[38;5;241m=\u001b[39m max_group_width\n\u001b[1;32m    731\u001b[0m \u001b[38;5;28mself\u001b[39m\u001b[38;5;241m.\u001b[39mmax_group_depth \u001b[38;5;241m=\u001b[39m max_group_depth\n\u001b[0;32m--> 733\u001b[0m \u001b[38;5;28mself\u001b[39m\u001b[38;5;241m.\u001b[39mstack \u001b[38;5;241m=\u001b[39m \u001b[43mStackSummary\u001b[49m\u001b[38;5;241;43m.\u001b[39;49m\u001b[43m_extract_from_extended_frame_gen\u001b[49m\u001b[43m(\u001b[49m\n\u001b[1;32m    734\u001b[0m \u001b[43m    \u001b[49m\u001b[43m_walk_tb_with_full_positions\u001b[49m\u001b[43m(\u001b[49m\u001b[43mexc_traceback\u001b[49m\u001b[43m)\u001b[49m\u001b[43m,\u001b[49m\n\u001b[1;32m    735\u001b[0m \u001b[43m    \u001b[49m\u001b[43mlimit\u001b[49m\u001b[38;5;241;43m=\u001b[39;49m\u001b[43mlimit\u001b[49m\u001b[43m,\u001b[49m\u001b[43m \u001b[49m\u001b[43mlookup_lines\u001b[49m\u001b[38;5;241;43m=\u001b[39;49m\u001b[43mlookup_lines\u001b[49m\u001b[43m,\u001b[49m\n\u001b[1;32m    736\u001b[0m \u001b[43m    \u001b[49m\u001b[43mcapture_locals\u001b[49m\u001b[38;5;241;43m=\u001b[39;49m\u001b[43mcapture_locals\u001b[49m\u001b[43m)\u001b[49m\n\u001b[1;32m    737\u001b[0m \u001b[38;5;28mself\u001b[39m\u001b[38;5;241m.\u001b[39mexc_type \u001b[38;5;241m=\u001b[39m exc_type\n\u001b[1;32m    738\u001b[0m \u001b[38;5;66;03m# Capture now to permit freeing resources: only complication is in the\u001b[39;00m\n\u001b[1;32m    739\u001b[0m \u001b[38;5;66;03m# unofficial API _format_final_exc_line\u001b[39;00m\n",
      "File \u001b[0;32m~/miniconda3/envs/fashion_analyzer/lib/python3.12/traceback.py:434\u001b[0m, in \u001b[0;36mStackSummary._extract_from_extended_frame_gen\u001b[0;34m(klass, frame_gen, limit, lookup_lines, capture_locals)\u001b[0m\n\u001b[1;32m    430\u001b[0m     result\u001b[38;5;241m.\u001b[39mappend(FrameSummary(\n\u001b[1;32m    431\u001b[0m         filename, lineno, name, lookup_line\u001b[38;5;241m=\u001b[39m\u001b[38;5;28;01mFalse\u001b[39;00m, \u001b[38;5;28mlocals\u001b[39m\u001b[38;5;241m=\u001b[39mf_locals,\n\u001b[1;32m    432\u001b[0m         end_lineno\u001b[38;5;241m=\u001b[39mend_lineno, colno\u001b[38;5;241m=\u001b[39mcolno, end_colno\u001b[38;5;241m=\u001b[39mend_colno))\n\u001b[1;32m    433\u001b[0m \u001b[38;5;28;01mfor\u001b[39;00m filename \u001b[38;5;129;01min\u001b[39;00m fnames:\n\u001b[0;32m--> 434\u001b[0m     \u001b[43mlinecache\u001b[49m\u001b[38;5;241;43m.\u001b[39;49m\u001b[43mcheckcache\u001b[49m\u001b[43m(\u001b[49m\u001b[43mfilename\u001b[49m\u001b[43m)\u001b[49m\n\u001b[1;32m    435\u001b[0m \u001b[38;5;66;03m# If immediate lookup was desired, trigger lookups now.\u001b[39;00m\n\u001b[1;32m    436\u001b[0m \u001b[38;5;28;01mif\u001b[39;00m lookup_lines:\n",
      "File \u001b[0;32m~/miniconda3/envs/fashion_analyzer/lib/python3.12/linecache.py:72\u001b[0m, in \u001b[0;36mcheckcache\u001b[0;34m(filename)\u001b[0m\n\u001b[1;32m     70\u001b[0m     \u001b[38;5;28;01mcontinue\u001b[39;00m   \u001b[38;5;66;03m# no-op for files loaded via a __loader__\u001b[39;00m\n\u001b[1;32m     71\u001b[0m \u001b[38;5;28;01mtry\u001b[39;00m:\n\u001b[0;32m---> 72\u001b[0m     stat \u001b[38;5;241m=\u001b[39m \u001b[43mos\u001b[49m\u001b[38;5;241;43m.\u001b[39;49m\u001b[43mstat\u001b[49m\u001b[43m(\u001b[49m\u001b[43mfullname\u001b[49m\u001b[43m)\u001b[49m\n\u001b[1;32m     73\u001b[0m \u001b[38;5;28;01mexcept\u001b[39;00m \u001b[38;5;167;01mOSError\u001b[39;00m:\n\u001b[1;32m     74\u001b[0m     cache\u001b[38;5;241m.\u001b[39mpop(filename, \u001b[38;5;28;01mNone\u001b[39;00m)\n",
      "\u001b[0;31mKeyboardInterrupt\u001b[0m: "
     ]
    }
   ],
   "source": [
    "init_msg = [HumanMessage(content=\"Search 5 websites about men's shoes.\")]\n",
    "for event in graph.stream({\"messages\": init_msg}):\n",
    "    for value in event.values():\n",
    "        print(\"Assistant:\", value[\"messages\"][-1].content)"
   ]
  },
  {
   "cell_type": "code",
   "execution_count": null,
   "metadata": {},
   "outputs": [
    {
     "name": "stdout",
     "output_type": "stream",
     "text": [
      "BEST WINTER COATS FOR MEN 2024. All 33 of these coats are excellent choices to add to any stylish man's wardrobe. Let's take a closer look at each individual coat (updated for 2024). ... Style. Winter coats may not be known as the most stylish, but the most important factor is not placing fashion over function during this season. Also get ...\n",
      "https://www.gentlemanwithin.com/best-winter-coats-for-men/\n",
      "The 10 Best Winter Pants for Men, From Billy Reid to Brunello Cucinelli When the weather outside is frightful, keep your legs delightfully warm in these insulating styles. Modified on January 6 ...\n",
      "https://robbreport.com/style/menswear/best-winter-pants-men-1234791817/\n",
      "Keep reading for unique history, style inspiration, and the complete round-up of the different types of jackets for men. Key Takeaways Different types of jackets for men suit different seasons.\n",
      "https://www.fashionbeans.com/article/types-of-jackets-for-men/\n",
      "Explore the top 18 fall jackets for men in 2024, from casual bomber jackets to sophisticated peacoats. Discover versatile styles and outfit ideas to stay warm and stylish this season. Whether you prefer a rugged utility jacket or a luxurious suede option, our comprehensive guide covers all the latest trends in men's fall fashion.\n",
      "https://gentsosprey.com/18-trendy-fall-jackets-for-men-2024-from-casual-bombers-to-sophisticated-peacoats-elevate-your-style\n",
      "Searching for the best winter jacket to see you through the cold snap? It's layering season, and a great jacket is key to nailing your cold-weather wardrobe. So, from blazers and bombers to boucle and shearling, these are the best winter jacket styles 2024 to know now.\n",
      "https://www.net-a-porter.com/en-us/porter/article-992c63ce6846b619/fashion/fashion-memo/winter-jackets\n"
     ]
    }
   ],
   "source": [
    "raw_docs = retriever.invoke(\"Men's winter styles\")\n",
    "\n",
    "for doc in raw_docs:\n",
    "    print(doc.page_content)\n",
    "    print(doc.metadata[\"url\"])"
   ]
  },
  {
   "cell_type": "markdown",
   "metadata": {},
   "source": [
    "## How to Prompt the Agent for a Specific Goal\n",
    "- \"Give me the latest trends in fashion.\"\n",
    "Agent should be able to keep searching websites and continually asking questions until it thinks it's answered all the user's questions.\n",
    "- Help the agent along by introducing it to several key fashion product categories to iterate on in its search engine.\n",
    "- Tell it that it needs 2-3 examples of each to be considered done searching."
   ]
  }
 ],
 "metadata": {
  "kernelspec": {
   "display_name": "fashion_analyzer",
   "language": "python",
   "name": "python3"
  },
  "language_info": {
   "codemirror_mode": {
    "name": "ipython",
    "version": 3
   },
   "file_extension": ".py",
   "mimetype": "text/x-python",
   "name": "python",
   "nbconvert_exporter": "python",
   "pygments_lexer": "ipython3",
   "version": "3.12.4"
  }
 },
 "nbformat": 4,
 "nbformat_minor": 2
}
