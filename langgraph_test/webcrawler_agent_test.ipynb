{
 "cells": [
  {
   "cell_type": "code",
   "execution_count": 233,
   "metadata": {},
   "outputs": [],
   "source": [
    "import os\n",
    "import traceback\n",
    "from datetime import datetime\n",
    "import uuid\n",
    "import chromadb\n",
    "from dotenv import load_dotenv\n",
    "from typing import Annotated\n",
    "from typing_extensions import TypedDict\n",
    "\n",
    "from pydantic import BaseModel\n",
    "from langgraph.graph import StateGraph, START, END\n",
    "from langgraph.graph.message import add_messages\n",
    "from langgraph.graph.state import CompiledStateGraph\n",
    "from langchain_community.chat_models import ChatOllama\n",
    "from langchain_community.embeddings import OllamaEmbeddings\n",
    "from langchain_core.documents import Document\n",
    "from langchain_community.tools.tavily_search import TavilySearchResults\n",
    "from langchain_core.prompts import PromptTemplate\n",
    "from langchain_core.prompts.base import format_document\n",
    "from langchain_core.messages import (\n",
    "    AIMessage,\n",
    "    HumanMessage,\n",
    "    BaseMessage,\n",
    "    get_buffer_string,\n",
    ")\n",
    "from langchain_chroma import Chroma\n",
    "from langchain_openai import ChatOpenAI\n",
    "from langchain.chains.combine_documents import create_stuff_documents_chain\n",
    "from langchain_community.document_loaders import WebBaseLoader\n",
    "from langchain_core.prompts import ChatPromptTemplate\n",
    "\n",
    "\n",
    "from IPython.display import Image, display"
   ]
  },
  {
   "cell_type": "code",
   "execution_count": 234,
   "metadata": {},
   "outputs": [
    {
     "data": {
      "text/plain": [
       "True"
      ]
     },
     "execution_count": 234,
     "metadata": {},
     "output_type": "execute_result"
    }
   ],
   "source": [
    "load_dotenv()"
   ]
  },
  {
   "cell_type": "markdown",
   "metadata": {},
   "source": [
    "### Managing Subgraphs with LangGraph\n",
    "Check this [article](https://langchain-ai.github.io/langgraph/how-tos/subgraphs-manage-state/) out to learn how to manage sub-graphs! Useful if you want to partition the state of the graph into different sections.\n",
    "Also, this [article](https://langchain-ai.github.io/langgraph/reference/graphs/) tells you how to plug your config directly into state to use in the API for each of your tools."
   ]
  },
  {
   "cell_type": "markdown",
   "metadata": {},
   "source": [
    "### LangGraph Summaries Cognitive Architecture\n",
    "Check out this [link](https://python.langchain.com/v0.2/docs/tutorials/summarization/) to learn more about summarization cognitive architectures."
   ]
  },
  {
   "cell_type": "code",
   "execution_count": 235,
   "metadata": {},
   "outputs": [],
   "source": [
    "SEARCH_PLAN_RETRY_LIMIT = 5\n",
    "NUM_SEARCH_ITERATIONS = 5"
   ]
  },
  {
   "cell_type": "code",
   "execution_count": 236,
   "metadata": {},
   "outputs": [],
   "source": [
    "def get_current_year_and_month() -> tuple[int, int]:\n",
    "    current_date = datetime.now()\n",
    "    return current_date.year, current_date.month\n"
   ]
  },
  {
   "cell_type": "code",
   "execution_count": 237,
   "metadata": {},
   "outputs": [],
   "source": [
    "men_fashion_categories = [\n",
    "    \"Suits and Blazers\",\n",
    "    \"Shirts (Casual and Dress)\",\n",
    "    \"Pants (Jeans, Chinos, Dress Pants)\",\n",
    "    \"T-shirts and Polos\",\n",
    "    \"Footwear (Sneakers, Dress Shoes, Boots)\",\n",
    "    \"Outerwear (Jackets, Coats, Vests)\",\n",
    "    \"Accessories (Watches, Belts, Sunglasses)\",\n",
    "    \"Sportswear and Activewear\",\n",
    "    \"Underwear and Socks\",\n",
    "    \"Bags (Backpacks, Briefcases, Messenger Bags)\",\n",
    "]\n",
    "women_fashion_categories = [\n",
    "    \"Dresses and Skirts\",\n",
    "    \"Tops and Blouses\",\n",
    "    \"Pants and Leggings\",\n",
    "    \"Footwear (Heels, Flats, Boots)\",\n",
    "    \"Outerwear (Coats, Jackets, Blazers)\",\n",
    "    \"Handbags and Purses\",\n",
    "    \"Jewelry and Accessories\",\n",
    "    \"Sportswear and Activewear\",\n",
    "    \"Lingerie and Sleepwear\",\n",
    "    \"Sunglasses and Hats\",\n",
    "]\n",
    "\n",
    "all_fashion_categories = men_fashion_categories + women_fashion_categories"
   ]
  },
  {
   "cell_type": "code",
   "execution_count": 238,
   "metadata": {},
   "outputs": [],
   "source": [
    "class SearchPlan(BaseModel):\n",
    "    category: str\n",
    "    queries: list[str]\n",
    "\n",
    "\n",
    "class SearchPlans(BaseModel):\n",
    "    plans: list[SearchPlan]"
   ]
  },
  {
   "cell_type": "code",
   "execution_count": 239,
   "metadata": {},
   "outputs": [],
   "source": [
    "def update_search_plans(x: SearchPlans, y: SearchPlans) -> SearchPlans:\n",
    "    return y if y else x\n",
    "\n",
    "\n",
    "def increment_search_iterations(x: int, y: int) -> int:\n",
    "    return x + y\n",
    "\n",
    "\n",
    "def update_search_categories(x: list[str], y: list[str]) -> list[str]:\n",
    "    return y if y else x\n",
    "\n",
    "\n",
    "class State(TypedDict):\n",
    "    # Messages have the type \"list\". The `add_messages` function\n",
    "    # in the annotation defines how this state key should be updated\n",
    "    # (in this case, it appends messages to the list, rather than overwriting them)\n",
    "\n",
    "    # Each state variable needs an annotations to declare itself\n",
    "    messages: Annotated[list[BaseMessage], add_messages]\n",
    "    search_plans: Annotated[SearchPlans, update_search_plans]\n",
    "    num_search_iterations: Annotated[int, increment_search_iterations]\n",
    "    search_categories: Annotated[list[str], update_search_categories] = (\n",
    "        all_fashion_categories\n",
    "    )\n",
    "\n",
    "\n",
    "graph_builder = StateGraph(State)"
   ]
  },
  {
   "cell_type": "code",
   "execution_count": 240,
   "metadata": {},
   "outputs": [
    {
     "data": {
      "text/plain": [
       "__main__.State"
      ]
     },
     "execution_count": 240,
     "metadata": {},
     "output_type": "execute_result"
    }
   ],
   "source": [
    "graph_builder.schema"
   ]
  },
  {
   "cell_type": "code",
   "execution_count": 241,
   "metadata": {},
   "outputs": [],
   "source": [
    "llm = ChatOpenAI(model=\"gpt-4o\", api_key=os.getenv(\"OPENAI_API_KEY\"))\n",
    "fast_llm = ChatOpenAI(model=\"gpt-4o-mini\", api_key=os.getenv(\"OPENAI_API_KEY\"))\n",
    "local_llm = ChatOllama(model=\"llama3:latest\")\n",
    "local_embedding_model = OllamaEmbeddings(model=\"nomic-embed-text:latest\")"
   ]
  },
  {
   "cell_type": "code",
   "execution_count": 242,
   "metadata": {},
   "outputs": [],
   "source": [
    "vector_store = Chroma(\n",
    "    collection_name=\"example_collection\",\n",
    "    embedding_function=local_embedding_model,\n",
    "    persist_directory=\"./chroma_langchain_db\",  # Where to save data locally, remove if not neccesary\n",
    ")"
   ]
  },
  {
   "cell_type": "code",
   "execution_count": 243,
   "metadata": {},
   "outputs": [],
   "source": [
    "COLLECTION_NAME = \"langgraph_test_collection\"\n",
    "persistent_client = chromadb.PersistentClient()\n",
    "collection = persistent_client.get_or_create_collection(COLLECTION_NAME)\n",
    "vector_store_from_client = Chroma(\n",
    "    client=persistent_client,\n",
    "    collection_name=COLLECTION_NAME,\n",
    "    embedding_function=local_embedding_model,\n",
    ")"
   ]
  },
  {
   "cell_type": "code",
   "execution_count": 244,
   "metadata": {},
   "outputs": [],
   "source": [
    "tavily_search = TavilySearchResults()"
   ]
  },
  {
   "cell_type": "code",
   "execution_count": 245,
   "metadata": {},
   "outputs": [],
   "source": [
    "is_done_prompt_template = PromptTemplate.from_template(\n",
    "    \"\"\"\n",
    "You are an expert fashion designer. Your goal is to summarize the latest trends in fashion for the average magazine reader.\n",
    "The current year is {current_year} and the month is {current_month}. \n",
    "You are required by your manager to summarize all common fashion categories.\n",
    "You are a diligent designer, so you have precisely tracked the state of your notes so far.\n",
    "\n",
    "CATEGORIES:\n",
    "{categories}\n",
    "                                                       \n",
    "STATE:\n",
    "{state}\n",
    "\n",
    "Your job is to decide whether you are done summarizing all the categories.\n",
    "Return \"true\" if you are done and \"false\" if you are not done.\n",
    "\n",
    "ANSWER:\n",
    "\"\"\"\n",
    ")\n",
    "\n",
    "\n",
    "def is_done_prompt(state: State) -> PromptTemplate:\n",
    "    current_year, current_month = get_current_year_and_month()\n",
    "    return is_done_prompt_template.format(\n",
    "        state=state,\n",
    "        current_year=current_year,\n",
    "        current_month=current_month,\n",
    "        categories=\",\\n\".join(state[\"search_categories\"]),\n",
    "    )"
   ]
  },
  {
   "cell_type": "code",
   "execution_count": 246,
   "metadata": {},
   "outputs": [],
   "source": [
    "search_planner_prompt_template = PromptTemplate.from_template(\n",
    "    \"\"\"\n",
    "You are an expert fashion designer and data scientist. Your goal is to search the internet for the latest fashion trends to summarize them.\n",
    "The current year is {current_year} and the month is {current_month}. \n",
    "Your goal is to come up with a some JSON-formatted internet search queries to learn about the following categories.\n",
    "\n",
    "CATEGORIES:\n",
    "{categories}\n",
    "\n",
    "You are a diligent designer, so you have precisely tracked the state of your notes so far.\n",
    "Don't search about a category if it's already present the below state.\n",
    "STATE:\n",
    "{state}\n",
    "\n",
    "You are also an adept software engineer, who is fluent in JSON. Respond with your search queries in JSON format.\n",
    "Return your JSON answer in markdown format leading with ```json and ending with ```\n",
    "Follow the below JSON format when making your answer.\n",
    "REQUIRED JSON FORMAT:\n",
    "```json\n",
    "{{\n",
    "    \"plans\": [\n",
    "        {{\n",
    "            category: \"example category\",\n",
    "            queries: [\"example query 1\", \"example query 2\", ...]\n",
    "        }}\n",
    "    ]\n",
    "}}\n",
    "```\n",
    "\n",
    "SEARCH QUERIES JSON:\n",
    "\"\"\"\n",
    ")\n",
    "\n",
    "\n",
    "def search_planner_prompt(state: State) -> PromptTemplate:\n",
    "    current_year, current_month = get_current_year_and_month()\n",
    "    print(f\"Search Categories = {state[\"search_categories\"]}\")\n",
    "    return search_planner_prompt_template.format(\n",
    "        state=state,\n",
    "        current_year=current_year,\n",
    "        current_month=current_month,\n",
    "        categories=\",\\n\".join(state[\"search_categories\"]),\n",
    "    )"
   ]
  },
  {
   "cell_type": "code",
   "execution_count": 247,
   "metadata": {},
   "outputs": [],
   "source": [
    "search_rephraser_prompt_template = PromptTemplate.from_template(\n",
    "    \"\"\"\n",
    "You are an expert fashion designer. Your goal is to come up with a list of relevant fashion categories for each season.\n",
    "\n",
    "You are also an adept software engineer, who is fluent in JSON. Respond with your search queries in JSON format.\n",
    "Return your JSON answer in markdown format leading with ```json and ending with ```\n",
    "Follow the below JSON format when making your answer.\n",
    "REQUIRED JSON FORMAT:\n",
    "```json\n",
    "{{\n",
    "    \"categories\": [\n",
    "        \"category_1\",\n",
    "        \"category_2\",\n",
    "        ...\n",
    "    ]\n",
    "}}\n",
    "```\n",
    "\n",
    "FASHION CATEGORIES JSON:\n",
    "\"\"\"\n",
    ")"
   ]
  },
  {
   "cell_type": "code",
   "execution_count": 248,
   "metadata": {},
   "outputs": [],
   "source": [
    "fashion_summarizer_prompt_template = PromptTemplate.from_template(\n",
    "    \"\"\"\n",
    "You are an expert fashion designer and social media influencer. Your goal is to summarize the latest trends in fashion.\n",
    "You have done a significant amount of research in the past month ({current_month}, {current_year}) to inform your search.\n",
    "\n",
    "Given the research findings about fashion trends below:\n",
    "{retrieved_chunks}\n",
    "\n",
    "Write a concise summary about the trends. Make sure your answer touches on all the trends and is as informative as possible!\n",
    "\n",
    "Summary:\n",
    "\"\"\"\n",
    ")"
   ]
  },
  {
   "cell_type": "code",
   "execution_count": 249,
   "metadata": {},
   "outputs": [],
   "source": [
    "chunk_format = PromptTemplate.from_template(\"\"\"\n",
    "Note:\n",
    "{page_content}\n",
    "Citation:\n",
    "{metadata}\n",
    "\"\"\")"
   ]
  },
  {
   "cell_type": "code",
   "execution_count": 250,
   "metadata": {},
   "outputs": [],
   "source": [
    "def extract_json_from_markdown(text: str) -> str:\n",
    "    \"\"\"\n",
    "    Extracts JSON content from markdown-formatted text.\n",
    "    LLMs often return code in markdown format for users, parses for use with raw code.\n",
    "    Args:\n",
    "        text (str): The markdown-formatted text containing JSON.\n",
    "    \n",
    "    Returns:\n",
    "        str: The extracted JSON content, or an empty string if no JSON is found.\n",
    "    \"\"\"\n",
    "    import re\n",
    "    \n",
    "    # Pattern to match JSON blocks in markdown, both with and without the 'json' specifier\n",
    "    pattern = r'```(?:json)?\\s*([\\s\\S]*?)\\s*```'\n",
    "    \n",
    "    # Find all matches\n",
    "    matches = re.findall(pattern, text)\n",
    "    \n",
    "    # Return the first match if found, otherwise an empty string\n",
    "    return matches[0] if matches else \"\"\n"
   ]
  },
  {
   "cell_type": "code",
   "execution_count": 251,
   "metadata": {},
   "outputs": [],
   "source": [
    "def save_tavily_res_to_vector_db(tavily_res: AIMessage) -> None:\n",
    "    chunk_id = str(uuid.uuid4())\n",
    "    search_msg = tavily_res.content[0][\"content\"]\n",
    "    search_url = tavily_res.content[0][\"url\"]\n",
    "    doc = Document(\n",
    "        page_content=search_msg,\n",
    "        metadata={\"query\": search_msg, \"url\": search_url},\n",
    "        id=chunk_id,\n",
    "    )\n",
    "    vector_store.add_documents(documents=[doc], ids=[chunk_id])"
   ]
  },
  {
   "cell_type": "code",
   "execution_count": 252,
   "metadata": {},
   "outputs": [],
   "source": [
    "class SearchCategories(BaseModel):\n",
    "    categories: list[str]"
   ]
  },
  {
   "cell_type": "code",
   "execution_count": 253,
   "metadata": {},
   "outputs": [],
   "source": [
    "retriever = vector_store.as_retriever(\n",
    "    search_type=\"mmr\", search_kwargs={\"k\": 10, \"fetch_k\": 5}\n",
    ")"
   ]
  },
  {
   "cell_type": "code",
   "execution_count": 254,
   "metadata": {},
   "outputs": [],
   "source": [
    "def search_planner(state: State):\n",
    "    retries = 0\n",
    "    while retries < SEARCH_PLAN_RETRY_LIMIT:\n",
    "        raw_search_plan = local_llm.invoke(input=search_planner_prompt(state))\n",
    "        try:\n",
    "            extracted_json = extract_json_from_markdown(raw_search_plan.content)\n",
    "            print(f\"Extracted JSON = {extracted_json}\")\n",
    "            search_plan = SearchPlans.model_validate_json(extracted_json)\n",
    "            return {\"messages\": state[\"messages\"], \"search_plans\": search_plan}\n",
    "        except Exception as e:\n",
    "            print(f\"Retrying search plan extraction: {e}\")\n",
    "            print(traceback.print_exc())\n",
    "            retries += 1\n",
    "\n",
    "    raise ValueError(\n",
    "        f\"Search planner failed to return valid JSON after {SEARCH_PLAN_RETRY_LIMIT} retries.\"\n",
    "    )\n",
    "\n",
    "\n",
    "def search_rephraser(state: State):\n",
    "    retries = 0\n",
    "    while retries < SEARCH_PLAN_RETRY_LIMIT:\n",
    "        try:\n",
    "            new_search_categories = local_llm.invoke(\n",
    "                input=search_rephraser_prompt_template.format()\n",
    "            )\n",
    "            print(f\"New Search categories: {new_search_categories}\")\n",
    "            new_categories = SearchCategories.model_validate_json(\n",
    "                extract_json_from_markdown(new_search_categories.content)\n",
    "            )\n",
    "            return {\n",
    "                \"messages\": state[\"messages\"],\n",
    "                \"search_categories\": update_search_categories(\n",
    "                    state[\"search_categories\"], new_categories.categories\n",
    "                ),\n",
    "            }\n",
    "        except Exception as e:\n",
    "            retries += 1\n",
    "            print(f\"There was an exception making the new search categories: {e}\")\n",
    "\n",
    "    raise ValueError(\n",
    "        f\"Search planner failed to return valid JSON after {SEARCH_PLAN_RETRY_LIMIT} retries.\"\n",
    "    )\n",
    "\n",
    "\n",
    "# TODO: Improve model consistency at outputting JSON search plans\n",
    "def search_tool(state: State):\n",
    "    print(f\"State at start of search_tool: {state}\")\n",
    "    search_plan = state[\n",
    "        \"search_plans\"\n",
    "    ]  # Assume the search planner always goes to the search tool\n",
    "\n",
    "    for plan in search_plan.plans:\n",
    "        print(f\"Search plan: {plan}\")\n",
    "        for query in plan.queries:\n",
    "            res = AIMessage(content=tavily_search.invoke({\"query\": query}))\n",
    "            if \"HTTPError\" in res.content:\n",
    "                raise ValueError(f\"HTTP exception in calling Tavily API: {res}\")\n",
    "            save_tavily_res_to_vector_db(res)\n",
    "            add_messages(state[\"messages\"], res)\n",
    "\n",
    "    state[\"num_search_iterations\"] += 1\n",
    "    return {\n",
    "        \"messages\": state[\"messages\"],\n",
    "        \"num_search_iterations\": increment_search_iterations(\n",
    "            state[\"num_search_iterations\"], 1\n",
    "        ),\n",
    "    }\n",
    "\n",
    "\n",
    "def is_search_done(state: State) -> bool:\n",
    "    if state[\"num_search_iterations\"] < NUM_SEARCH_ITERATIONS:\n",
    "        return (\n",
    "            \"rephrase\"  # Rephrase the queries to search a greater variety of websites\n",
    "        )\n",
    "\n",
    "    # TODO: Fine-tune an LLM to check if a search is complete\n",
    "    res = local_llm.invoke(input=is_done_prompt(state)).content\n",
    "    if \"true\" in res.lower():\n",
    "        print(\"AGENT DONE\")\n",
    "        return \"true\"\n",
    "    elif \"false\" in res.lower():\n",
    "        print(\"AGENT NOT DONE, STARTING NEXT SEARCH\")\n",
    "        return \"false\"\n",
    "    else:\n",
    "        print(f\"{res}\")\n",
    "        raise ValueError(\"AI failed to decide if search was complete.\")\n",
    "\n",
    "\n",
    "def summarize_fashion_trends(state: State) -> bool:\n",
    "    year, month = get_current_year_and_month()\n",
    "    user_query = state[\"messages\"][0].content\n",
    "    retrieved_docs = retriever.invoke(user_query)\n",
    "    summary = local_llm.invoke(\n",
    "        input=fashion_summarizer_prompt_template.format(\n",
    "            current_year=year,\n",
    "            current_month=month,\n",
    "            retrieved_chunks=\"\\n\".join(\n",
    "                [\n",
    "                    chunk_format.format(\n",
    "                        page_content=doc.page_content, metadata=str(doc.metadata)\n",
    "                    )\n",
    "                    for doc in retrieved_docs\n",
    "                    if doc.metadata\n",
    "                ]\n",
    "            ),\n",
    "        )\n",
    "    )\n",
    "    add_messages(state[\"messages\"], summary)\n",
    "    print(\"AGENT DONE SUMMARIZING FINDINGS\")\n",
    "    print(summary.content)\n",
    "    return {\"messages\": state[\"messages\"]}\n",
    "\n",
    "\n",
    "# graph_builder.add_node(\"search_planner\", search_planner)\n",
    "# graph_builder.add_node(\"search_tool\", search_tool)\n",
    "# graph_builder.add_node(\"search_rephraser\", search_rephraser)\n",
    "graph_builder.add_node(\"summarize_fashion_trends\", summarize_fashion_trends)"
   ]
  },
  {
   "cell_type": "code",
   "execution_count": 255,
   "metadata": {},
   "outputs": [],
   "source": [
    "# graph_builder.add_edge(START, \"search_planner\")\n",
    "# graph_builder.add_edge(\"search_planner\", \"search_tool\")\n",
    "# graph_builder.add_conditional_edges(\n",
    "#     \"search_tool\",\n",
    "#     is_search_done,\n",
    "#     path_map={\n",
    "#         \"true\": \"summarize_fashion_trends\",\n",
    "#         \"false\": \"search_planner\",\n",
    "#         \"rephrase\": \"search_rephraser\",\n",
    "#     },\n",
    "# )\n",
    "# graph_builder.add_edge(\"search_rephraser\", \"search_planner\")\n",
    "# graph_builder.add_edge(\"summarize_fashion_trends\", END)\n",
    "\n",
    "# TODO: Consider a free tavily alternative or try to build it yourself!\n",
    "graph_builder.add_edge(START, \"summarize_fashion_trends\")\n",
    "graph_builder.add_edge(\"summarize_fashion_trends\", END)\n",
    "\n",
    "graph = graph_builder.compile()"
   ]
  },
  {
   "cell_type": "code",
   "execution_count": 256,
   "metadata": {},
   "outputs": [
    {
     "data": {
      "image/jpeg": "[encoded data removed]",
      "text/plain": [
       "<IPython.core.display.Image object>"
      ]
     },
     "metadata": {},
     "output_type": "display_data"
    }
   ],
   "source": [
    "def draw_graph(graph: CompiledStateGraph):\n",
    "    display(Image(graph.get_graph().draw_mermaid_png()))\n",
    "\n",
    "draw_graph(graph)"
   ]
  },
  {
   "cell_type": "code",
   "execution_count": 257,
   "metadata": {},
   "outputs": [
    {
     "name": "stdout",
     "output_type": "stream",
     "text": [
      "AGENT DONE SUMMARIZING FINDINGS\n",
      "Based on my research, here's a concise summary of the latest fashion trends in men's shoes:\n",
      "\n",
      "**Dress Shoes:**\n",
      "\n",
      "* The 20 Best Dress Shoes for Men in 2024 features a range of styles, including suede loafers, classic wingtips, and cap-toe designs from top brands like Ecco, Rockport, and Johnston & Murphy.\n",
      "* Zappos' best-reviewed dress shoes include lace-up, Oxford, cap-toe, moccasin, and Chukka style shoes from the same brands.\n",
      "\n",
      "**Fall Fashion Trends:**\n",
      "\n",
      "* According to Men's Fall Fashion Trends 2024, five styles to know are:\n",
      "\t+ Relaxed-fit suits\n",
      "\t+ Corduroy pants\n",
      "\t+ Oversized blazers\n",
      "\t+ Patterned shirts with slim ties\n",
      "\t+ Minimalist sneakers\n",
      "\n",
      "**Men's Shoes on Sale:**\n",
      "\n",
      "* Nordstrom offers a great selection of Men's Shoes on Sale, featuring sneakers, slippers, boots, sandals, and more from top brands at discounted prices.\n",
      "\n",
      "Overall, the trends suggest that men's fashion is leaning towards comfort, practicality, and versatility. Dress shoes are about classic designs with modern twists, while fall fashion trends focus on relaxed silhouettes and statement accessories. Meanwhile, sales on popular shoe retailers like Nordstrom provide great opportunities for men to upgrade their shoe game without breaking the bank!\n",
      "Assistant: Search 5 websites about men's shoes.\n"
     ]
    }
   ],
   "source": [
    "init_msg = [HumanMessage(content=\"Search 5 websites about men's shoes.\")]\n",
    "for event in graph.stream({\"messages\": init_msg}):\n",
    "    for value in event.values():\n",
    "        print(\"Assistant:\", value[\"messages\"][-1].content)"
   ]
  },
  {
   "cell_type": "code",
   "execution_count": 258,
   "metadata": {},
   "outputs": [
    {
     "name": "stdout",
     "output_type": "stream",
     "text": [
      "BEST WINTER COATS FOR MEN 2024. All 33 of these coats are excellent choices to add to any stylish man's wardrobe. Let's take a closer look at each individual coat (updated for 2024). ... Style. Winter coats may not be known as the most stylish, but the most important factor is not placing fashion over function during this season. Also get ...\n",
      "https://www.gentlemanwithin.com/best-winter-coats-for-men/\n",
      "The 10 Best Winter Pants for Men, From Billy Reid to Brunello Cucinelli When the weather outside is frightful, keep your legs delightfully warm in these insulating styles. Modified on January 6 ...\n",
      "https://robbreport.com/style/menswear/best-winter-pants-men-1234791817/\n",
      "Keep reading for unique history, style inspiration, and the complete round-up of the different types of jackets for men. Key Takeaways Different types of jackets for men suit different seasons.\n",
      "https://www.fashionbeans.com/article/types-of-jackets-for-men/\n",
      "Explore the top 18 fall jackets for men in 2024, from casual bomber jackets to sophisticated peacoats. Discover versatile styles and outfit ideas to stay warm and stylish this season. Whether you prefer a rugged utility jacket or a luxurious suede option, our comprehensive guide covers all the latest trends in men's fall fashion.\n",
      "https://gentsosprey.com/18-trendy-fall-jackets-for-men-2024-from-casual-bombers-to-sophisticated-peacoats-elevate-your-style\n",
      "Searching for the best winter jacket to see you through the cold snap? It's layering season, and a great jacket is key to nailing your cold-weather wardrobe. So, from blazers and bombers to boucle and shearling, these are the best winter jacket styles 2024 to know now.\n",
      "https://www.net-a-porter.com/en-us/porter/article-992c63ce6846b619/fashion/fashion-memo/winter-jackets\n"
     ]
    }
   ],
   "source": [
    "raw_docs = retriever.invoke(\"Men's winter styles\")\n",
    "\n",
    "for doc in raw_docs:\n",
    "    print(doc.page_content)\n",
    "    print(doc.metadata[\"url\"])"
   ]
  },
  {
   "cell_type": "markdown",
   "metadata": {},
   "source": [
    "## How to Prompt the Agent for a Specific Goal\n",
    "- \"Give me the latest trends in fashion.\"\n",
    "Agent should be able to keep searching websites and continually asking questions until it thinks it's answered all the user's questions.\n",
    "- Help the agent along by introducing it to several key fashion product categories to iterate on in its search engine.\n",
    "- Tell it that it needs 2-3 examples of each to be considered done searching."
   ]
  }
 ],
 "metadata": {
  "kernelspec": {
   "display_name": "fashion_analyzer",
   "language": "python",
   "name": "python3"
  },
  "language_info": {
   "codemirror_mode": {
    "name": "ipython",
    "version": 3
   },
   "file_extension": ".py",
   "mimetype": "text/x-python",
   "name": "python",
   "nbconvert_exporter": "python",
   "pygments_lexer": "ipython3",
   "version": "3.12.4"
  }
 },
 "nbformat": 4,
 "nbformat_minor": 2
}
